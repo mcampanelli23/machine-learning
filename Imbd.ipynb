{
  "nbformat": 4,
  "nbformat_minor": 0,
  "metadata": {
    "colab": {
      "name": "Imbd.ipynb",
      "provenance": []
    },
    "kernelspec": {
      "name": "python3",
      "display_name": "Python 3"
    },
    "language_info": {
      "name": "python"
    }
  },
  "cells": [
    {
      "cell_type": "code",
      "execution_count": 3,
      "metadata": {
        "id": "82pU7BP0J1gD"
      },
      "outputs": [],
      "source": [
        "import pandas as pd"
      ]
    },
    {
      "cell_type": "code",
      "source": [
        "import numpy as np"
      ],
      "metadata": {
        "id": "7RcO2MzGKE2x"
      },
      "execution_count": 2,
      "outputs": []
    },
    {
      "cell_type": "code",
      "source": [
        "df = pd.read_csv('https://raw.githubusercontent.com/niteen11/data301_predictive_analytics_machine_learning/main/data/imdb_labelled.txt', sep='\\t',names=['message', 'class'])"
      ],
      "metadata": {
        "id": "3-OKK9lKKJX1"
      },
      "execution_count": 23,
      "outputs": []
    },
    {
      "cell_type": "code",
      "source": [
        "df.head"
      ],
      "metadata": {
        "colab": {
          "base_uri": "https://localhost:8080/"
        },
        "id": "gcWXhaNzQTzY",
        "outputId": "0d6d81e7-3cb4-47f9-b778-52062e6950b6"
      },
      "execution_count": 24,
      "outputs": [
        {
          "output_type": "execute_result",
          "data": {
            "text/plain": [
              "<bound method NDFrame.head of                                                message  class\n",
              "0    A very, very, very slow-moving, aimless movie ...      0\n",
              "1    Not sure who was more lost - the flat characte...      0\n",
              "2    Attempting artiness with black & white and cle...      0\n",
              "3         Very little music or anything to speak of.        0\n",
              "4    The best scene in the movie was when Gerardo i...      1\n",
              "..                                                 ...    ...\n",
              "743  I just got bored watching Jessice Lange take h...      0\n",
              "744  Unfortunately, any virtue in this film's produ...      0\n",
              "745                   In a word, it is embarrassing.        0\n",
              "746                               Exceptionally bad!        0\n",
              "747  All in all its an insult to one's intelligence...      0\n",
              "\n",
              "[748 rows x 2 columns]>"
            ]
          },
          "metadata": {},
          "execution_count": 24
        }
      ]
    },
    {
      "cell_type": "code",
      "source": [
        "df.columns"
      ],
      "metadata": {
        "colab": {
          "base_uri": "https://localhost:8080/"
        },
        "id": "4Le_mbQXRvR4",
        "outputId": "5bf13b6d-9a42-4f45-aea2-23b12b92e1f9"
      },
      "execution_count": 25,
      "outputs": [
        {
          "output_type": "execute_result",
          "data": {
            "text/plain": [
              "Index(['message', 'class'], dtype='object')"
            ]
          },
          "metadata": {},
          "execution_count": 25
        }
      ]
    },
    {
      "cell_type": "code",
      "source": [
        "from sklearn.feature_extraction.text import CountVectorizer"
      ],
      "metadata": {
        "id": "5TZ47r73Qbe3"
      },
      "execution_count": 26,
      "outputs": []
    },
    {
      "cell_type": "code",
      "source": [
        "cv = CountVectorizer"
      ],
      "metadata": {
        "id": "EqIQjXDTQ7qE"
      },
      "execution_count": 27,
      "outputs": []
    },
    {
      "cell_type": "code",
      "source": [
        "df.iloc[27]"
      ],
      "metadata": {
        "colab": {
          "base_uri": "https://localhost:8080/"
        },
        "id": "jMCMnh1ERA8X",
        "outputId": "260face1-ab0d-493f-ce87-ba8a87bab333"
      },
      "execution_count": 28,
      "outputs": [
        {
          "output_type": "execute_result",
          "data": {
            "text/plain": [
              "message    It is a true classic.  \n",
              "class                            1\n",
              "Name: 27, dtype: object"
            ]
          },
          "metadata": {},
          "execution_count": 28
        }
      ]
    },
    {
      "cell_type": "code",
      "source": [
        "(df['message'][26])"
      ],
      "metadata": {
        "colab": {
          "base_uri": "https://localhost:8080/",
          "height": 35
        },
        "id": "_CYT5D6qSEry",
        "outputId": "cac0f696-af8e-4fd6-f8bb-9bbf9f9c44ba"
      },
      "execution_count": 32,
      "outputs": [
        {
          "output_type": "execute_result",
          "data": {
            "application/vnd.google.colaboratory.intrinsic+json": {
              "type": "string"
            },
            "text/plain": [
              "'The Wind and the Lion is well written and superbly acted.  '"
            ]
          },
          "metadata": {},
          "execution_count": 32
        }
      ]
    },
    {
      "cell_type": "code",
      "source": [
        "len(df['message'][26])"
      ],
      "metadata": {
        "colab": {
          "base_uri": "https://localhost:8080/"
        },
        "id": "eneRq0bbRdj6",
        "outputId": "d9a605f5-274c-4cee-e606-8ca50ad510b3"
      },
      "execution_count": 33,
      "outputs": [
        {
          "output_type": "execute_result",
          "data": {
            "text/plain": [
              "59"
            ]
          },
          "metadata": {},
          "execution_count": 33
        }
      ]
    },
    {
      "cell_type": "code",
      "source": [
        "max(df['message'].apply(len))"
      ],
      "metadata": {
        "colab": {
          "base_uri": "https://localhost:8080/"
        },
        "id": "xPwPfB7kVJS5",
        "outputId": "1fc6c012-fb95-489e-e023-ce41cc0dc66c"
      },
      "execution_count": 34,
      "outputs": [
        {
          "output_type": "execute_result",
          "data": {
            "text/plain": [
              "7944"
            ]
          },
          "metadata": {},
          "execution_count": 34
        }
      ]
    },
    {
      "cell_type": "code",
      "source": [
        "msg_7944 = df[df['message'].apply(len)==7944]"
      ],
      "metadata": {
        "id": "dEXaWebFVTYm"
      },
      "execution_count": 35,
      "outputs": []
    },
    {
      "cell_type": "code",
      "source": [
        "msg_7944"
      ],
      "metadata": {
        "colab": {
          "base_uri": "https://localhost:8080/",
          "height": 81
        },
        "id": "3rCNydGeVfmT",
        "outputId": "f9027175-f4af-4720-a5c5-e6273e992dc3"
      },
      "execution_count": 36,
      "outputs": [
        {
          "output_type": "execute_result",
          "data": {
            "text/html": [
              "<div>\n",
              "<style scoped>\n",
              "    .dataframe tbody tr th:only-of-type {\n",
              "        vertical-align: middle;\n",
              "    }\n",
              "\n",
              "    .dataframe tbody tr th {\n",
              "        vertical-align: top;\n",
              "    }\n",
              "\n",
              "    .dataframe thead th {\n",
              "        text-align: right;\n",
              "    }\n",
              "</style>\n",
              "<table border=\"1\" class=\"dataframe\">\n",
              "  <thead>\n",
              "    <tr style=\"text-align: right;\">\n",
              "      <th></th>\n",
              "      <th>message</th>\n",
              "      <th>class</th>\n",
              "    </tr>\n",
              "  </thead>\n",
              "  <tbody>\n",
              "    <tr>\n",
              "      <th>136</th>\n",
              "      <td>In fact, it's hard to remember that the part ...</td>\n",
              "      <td>0</td>\n",
              "    </tr>\n",
              "  </tbody>\n",
              "</table>\n",
              "</div>"
            ],
            "text/plain": [
              "                                               message  class\n",
              "136   In fact, it's hard to remember that the part ...      0"
            ]
          },
          "metadata": {},
          "execution_count": 36
        }
      ]
    },
    {
      "cell_type": "code",
      "source": [
        "msg_7944.message.iloc[0]"
      ],
      "metadata": {
        "colab": {
          "base_uri": "https://localhost:8080/",
          "height": 139
        },
        "id": "pCNvtMK7ViYN",
        "outputId": "426bcb87-ad77-4f58-c3bb-28e16238e00f"
      },
      "execution_count": 37,
      "outputs": [
        {
          "output_type": "execute_result",
          "data": {
            "application/vnd.google.colaboratory.intrinsic+json": {
              "type": "string"
            },
            "text/plain": [
              "' In fact, it\\'s hard to remember that the part of Ray Charles is being acted, and not played by the man himself.  \\t1\\nRay Charles is legendary.  \\t1\\nRay Charles\\' life provided excellent biographical material for the film, which goes well beyond being just another movie about a musician.  \\t1\\nHitchcock is a great director.  \\t1\\nIronically I mostly find his films a total waste of time to watch.  \\t0\\nSecondly, Hitchcock pretty much perfected the thriller and chase movie.  \\t1\\nIt\\'s this pandering to the audience that sabotages most of his films.  \\t0\\nHence the whole story lacks a certain energy.  \\t0\\nThe plot simply rumbles on like a machine, desperately depending on the addition of new scenes.  \\t0\\nThere are the usual Hitchcock logic flaws.  \\t0\\nMishima is extremely uninteresting.  \\t0\\nThis is a chilly, unremarkable movie about an author living/working in a chilly abstruse culture.  \\t0\\nThe flat reenactments don\\'t hold your attention because they are emotionally adrift and stagy.  \\t0\\nAnd the rest of it just sits there being awful... with soldiers singing songs about the masculinity they pledge themselves to, hairsplitting about purity, the admiration of swords, etc.  \\t0\\nHe can bore you to pieces, and kill the momentum of a movie, quicker than anyone else.  \\t0\\nSchrader has made a resume full of lousy, amateurish films.  \\t0\\nWhen I first watched this movie, in the 80s, I loved it.  \\t1\\nI was totally fascinated by the music, the dancing... everything.  \\t1\\nHowever, I recently watched the whole thing again on DVD, and I was completely struck by how extremely stupid the storyline was - how it contained holes, inconsistencies and - frankly - a whole lot of crap - and how horrid the dancing was.  \\t0\\nI mean, in a realistic world, she would NEVER have gotten into that ballet repertory... The whole thing was quite pathetic.  \\t0\\nThe character developments also lacked in depth.  \\t0\\nWoa, talk about awful.  \\t0\\nDo not waste your time.  \\t0\\nIt was just too horrible.  \\t0\\nThe worst, sappiest dialogue... I could go on and on.  \\t0\\nBut what really made it unwatchable was the direction.  \\t0\\nThe poor actors.  \\t0\\nYou can\\'t even tell if they have any talent because they not only have pathetic lines to speak but the director gave them no action.  \\t0\\nIf you check the director\\'s filmography on this site you will see why this film didn\\'t have a chance.  \\t0\\nThis would not even be good as a made for TV flick.  \\t0\\nIf good intentions made a film great, then this film might be one of the greatest films ever made.  \\t1\\nThe film has great actors, a master director, a significant theme--at least a would-be significant theme, undertone of fifties existential world-weariness, aerial scenes that ought to have thrilled both senses and imagination, and characters about which one might deeply care.  \\t1\\nRegrettably, the film fails.  \\t0\\nThe movie lacks visual interest, drama, expression of feeling, and celebration of the very patriotism that underlines the narrative.  \\t0\\nNo actress has been worse used that June Allison in this movie.  \\t0\\nYet, I enjoy watching it.  \\t1\\nUnfortunately, this is a bad movie that is just plain bad.  \\t0\\nBad script, bad direction and horrible acting make this one plain bad!  \\t0\\nThe dialogue sucked.  \\t0\\nThe cinematography-if it can be called that-sucked.  \\t0\\nThe soundtrack sucked.  \\t0\\nThe acting sucked.  \\t0\\nThe concert sequences just sucked.  \\t0\\nThat was nice.  \\t1\\nThat was funny.  \\t1\\nIt was so funny.  \\t1\\nOverall, this movie was cheap trash.  \\t0\\nBut this movie is not funny, considering the ridiculousness of it.  \\t0\\nI came out of it feeling angry.  \\t0\\n***SPOILERS*** Whatever else can (or can\\'t) be said about it, SURFACE is superbly crafted.  \\t1\\nThe cinematography is simply stunning (to say the least) and the fx are nothing if not state-of-the-art.  \\t1\\nConceptually, the show offers a little bit of everything- and for just about everybody (parents, kids, fantasy and/or fx fans).  \\t1\\nAnd there wasn\\'t a single sour note struck acting-wise, either; some surprisingly solid casting, here.  \\t1\\nAll things considered, a job very well done.  \\t1\\nThanks good a movie like this was done and released.  \\t1\\nOne of the best mexican movies ever!, and one of the less understood, even by mexican themselves, no matter how identified the should have felt with it.  \\t1\\nIt ranks highly as a great noir-crime-drama, incredible performances by Belmondo and Lino Ventura.  \\t1\\nThe attention given to every character, and complex psychological portrayals, detailing loyalty, treachery, love, and hope, are tremendous.  \\t1\\nIt is an excellent drama, an excellent thriller, and an excellent film.  \\t1\\nUp there with the best of Melville.  \\t1\\nEverything about this film is simply incredible.  \\t1\\nYou truly take this journey through the eyes and soul of a child.  \\t1\\nBLACK WATER is a thriller that manages to completely transcend it\\'s limitations (it\\'s an indie flick) by continually subverting expectations to emerge as an intense experience.  \\t1\\nThe performances are real and gripping, the crocdodile is extremely well done, indeed if the Black Water website is to be believed that\\'s because they used real crocs and the swamp location is fabulous.  \\t1\\nI thoroughly enjoyed it when Christopher Eccleston took control of the TARDIS and the continuation of the series.  \\t1\\nI\\'m not sure what he was trying to do with this film.  \\t0\\nIf it was to turn my good day feeling into a night of disturbing memories than I guess he succeeded.  \\t0\\nThere is a lot of beautiful places.  \\t1\\nIt was forced, like everything in this movie.  \\t0\\nAgain, lame.  \\t0\\nHere\\'s where the movie really pi**ed me off.  \\t0\\nAnd don\\'t even get me started on the jerky camerawork.  \\t0\\nWhen I saw it in the theater I thought I was going to be sick.  \\t0\\nSummary: The witticisms weren\\'t witty.  \\t0\\nThe plot - well, I said I\\'d let that one go.  \\t0\\nThe acting was bad.  \\t0\\nReally bad.  \\t0\\nEven Billy Bob couldn\\'t rise above the script, which was worse.  \\t0\\nCamerawork - again, bad.  \\t0\\nRating: 1 out of 10.  \\t0\\nAn AMAZING finale to possibly the BEST trilogy of all time!  \\t1\\nKieslowski never ceases to amaze me.  \\t1\\nHe is one of my favourite directors, and one of the most talented directors in the history of cinema.  \\t1\\nHis use of the colours of the French flag in the three films was nothing short of incredible, every shot, every scene was like a work of art.  \\t1\\nThree of the most visually appealing movies i\\'ve ever seen.  \\t1\\nAnd his subtle connections between the three films are awesome.  \\t1\\nI have to mention this and it is a huge SPOILER, i loved the ending, how all the characters of the three films were the remaining survivors of the ferry disaster, with Valentine and the young judge together, and the old man watching it on her TV, solidifying his happiness over the suffering which he dealt with for those many years.  \\t1\\nI couldn\\'t think of a better way to end the film, but a smile on my face, great way to wrap up an amazing film and trilogy!  \\t1\\nI recommend this for EVERYONE who loves film, movies, anything...A Work of Art!  \\t1\\n10 out of 10 for both the movie and trilogy.  \\t1\\nI literally vomited while watching this film.  \\t0\\nI think i was one of the people who found this another one of roth\\'s pearls.  \\t1\\nhis performance, as awarded, was stunning.  \\t1\\nthe story which was told so eloquently by Francis ford Coppola 25 years earlier, really unfolds gradually and leaves room for the characters to develop.  \\t1\\nIn a most wonderful location lies a story of contrast.  \\t1\\nAll in all a beautiful directed film from Nicola\\'s roeg wih a sublime cast.  \\t1\\nI\\'m translating movies for a living and this is the first movie in my 5-year working experience that I found offensive to my intelligence.  \\t0\\nBut when someone strives for greatness and poetry, but delivers a muddled (and often ridiculous) story, a bunch of disparate scenes, pretentious dialogue... Then you get the worst kind of a movie that some other reviewer very accurately defined as pretentious crap\".  '"
            ]
          },
          "metadata": {},
          "execution_count": 37
        }
      ]
    },
    {
      "cell_type": "code",
      "source": [
        "import string"
      ],
      "metadata": {
        "id": "joKwCUXMVp4I"
      },
      "execution_count": 38,
      "outputs": []
    },
    {
      "cell_type": "code",
      "source": [
        "remove_punct = [char for char in msg_7944.message.iloc[0] if char not in string.punctuation]"
      ],
      "metadata": {
        "id": "CrhKbshkVwIl"
      },
      "execution_count": 39,
      "outputs": []
    },
    {
      "cell_type": "code",
      "source": [
        "remove_punct = ''.join(remove_punct)"
      ],
      "metadata": {
        "id": "dOV6w9w8V7lc"
      },
      "execution_count": 40,
      "outputs": []
    },
    {
      "cell_type": "code",
      "source": [
        "remove_punct"
      ],
      "metadata": {
        "colab": {
          "base_uri": "https://localhost:8080/",
          "height": 139
        },
        "id": "EErsqdWfV8xO",
        "outputId": "169edda1-73b2-43ca-f723-909159847382"
      },
      "execution_count": 41,
      "outputs": [
        {
          "output_type": "execute_result",
          "data": {
            "application/vnd.google.colaboratory.intrinsic+json": {
              "type": "string"
            },
            "text/plain": [
              "' In fact its hard to remember that the part of Ray Charles is being acted and not played by the man himself  \\t1\\nRay Charles is legendary  \\t1\\nRay Charles life provided excellent biographical material for the film which goes well beyond being just another movie about a musician  \\t1\\nHitchcock is a great director  \\t1\\nIronically I mostly find his films a total waste of time to watch  \\t0\\nSecondly Hitchcock pretty much perfected the thriller and chase movie  \\t1\\nIts this pandering to the audience that sabotages most of his films  \\t0\\nHence the whole story lacks a certain energy  \\t0\\nThe plot simply rumbles on like a machine desperately depending on the addition of new scenes  \\t0\\nThere are the usual Hitchcock logic flaws  \\t0\\nMishima is extremely uninteresting  \\t0\\nThis is a chilly unremarkable movie about an author livingworking in a chilly abstruse culture  \\t0\\nThe flat reenactments dont hold your attention because they are emotionally adrift and stagy  \\t0\\nAnd the rest of it just sits there being awful with soldiers singing songs about the masculinity they pledge themselves to hairsplitting about purity the admiration of swords etc  \\t0\\nHe can bore you to pieces and kill the momentum of a movie quicker than anyone else  \\t0\\nSchrader has made a resume full of lousy amateurish films  \\t0\\nWhen I first watched this movie in the 80s I loved it  \\t1\\nI was totally fascinated by the music the dancing everything  \\t1\\nHowever I recently watched the whole thing again on DVD and I was completely struck by how extremely stupid the storyline was  how it contained holes inconsistencies and  frankly  a whole lot of crap  and how horrid the dancing was  \\t0\\nI mean in a realistic world she would NEVER have gotten into that ballet repertory The whole thing was quite pathetic  \\t0\\nThe character developments also lacked in depth  \\t0\\nWoa talk about awful  \\t0\\nDo not waste your time  \\t0\\nIt was just too horrible  \\t0\\nThe worst sappiest dialogue I could go on and on  \\t0\\nBut what really made it unwatchable was the direction  \\t0\\nThe poor actors  \\t0\\nYou cant even tell if they have any talent because they not only have pathetic lines to speak but the director gave them no action  \\t0\\nIf you check the directors filmography on this site you will see why this film didnt have a chance  \\t0\\nThis would not even be good as a made for TV flick  \\t0\\nIf good intentions made a film great then this film might be one of the greatest films ever made  \\t1\\nThe film has great actors a master director a significant themeat least a wouldbe significant theme undertone of fifties existential worldweariness aerial scenes that ought to have thrilled both senses and imagination and characters about which one might deeply care  \\t1\\nRegrettably the film fails  \\t0\\nThe movie lacks visual interest drama expression of feeling and celebration of the very patriotism that underlines the narrative  \\t0\\nNo actress has been worse used that June Allison in this movie  \\t0\\nYet I enjoy watching it  \\t1\\nUnfortunately this is a bad movie that is just plain bad  \\t0\\nBad script bad direction and horrible acting make this one plain bad  \\t0\\nThe dialogue sucked  \\t0\\nThe cinematographyif it can be called thatsucked  \\t0\\nThe soundtrack sucked  \\t0\\nThe acting sucked  \\t0\\nThe concert sequences just sucked  \\t0\\nThat was nice  \\t1\\nThat was funny  \\t1\\nIt was so funny  \\t1\\nOverall this movie was cheap trash  \\t0\\nBut this movie is not funny considering the ridiculousness of it  \\t0\\nI came out of it feeling angry  \\t0\\nSPOILERS Whatever else can or cant be said about it SURFACE is superbly crafted  \\t1\\nThe cinematography is simply stunning to say the least and the fx are nothing if not stateoftheart  \\t1\\nConceptually the show offers a little bit of everything and for just about everybody parents kids fantasy andor fx fans  \\t1\\nAnd there wasnt a single sour note struck actingwise either some surprisingly solid casting here  \\t1\\nAll things considered a job very well done  \\t1\\nThanks good a movie like this was done and released  \\t1\\nOne of the best mexican movies ever and one of the less understood even by mexican themselves no matter how identified the should have felt with it  \\t1\\nIt ranks highly as a great noircrimedrama incredible performances by Belmondo and Lino Ventura  \\t1\\nThe attention given to every character and complex psychological portrayals detailing loyalty treachery love and hope are tremendous  \\t1\\nIt is an excellent drama an excellent thriller and an excellent film  \\t1\\nUp there with the best of Melville  \\t1\\nEverything about this film is simply incredible  \\t1\\nYou truly take this journey through the eyes and soul of a child  \\t1\\nBLACK WATER is a thriller that manages to completely transcend its limitations its an indie flick by continually subverting expectations to emerge as an intense experience  \\t1\\nThe performances are real and gripping the crocdodile is extremely well done indeed if the Black Water website is to be believed thats because they used real crocs and the swamp location is fabulous  \\t1\\nI thoroughly enjoyed it when Christopher Eccleston took control of the TARDIS and the continuation of the series  \\t1\\nIm not sure what he was trying to do with this film  \\t0\\nIf it was to turn my good day feeling into a night of disturbing memories than I guess he succeeded  \\t0\\nThere is a lot of beautiful places  \\t1\\nIt was forced like everything in this movie  \\t0\\nAgain lame  \\t0\\nHeres where the movie really pied me off  \\t0\\nAnd dont even get me started on the jerky camerawork  \\t0\\nWhen I saw it in the theater I thought I was going to be sick  \\t0\\nSummary The witticisms werent witty  \\t0\\nThe plot  well I said Id let that one go  \\t0\\nThe acting was bad  \\t0\\nReally bad  \\t0\\nEven Billy Bob couldnt rise above the script which was worse  \\t0\\nCamerawork  again bad  \\t0\\nRating 1 out of 10  \\t0\\nAn AMAZING finale to possibly the BEST trilogy of all time  \\t1\\nKieslowski never ceases to amaze me  \\t1\\nHe is one of my favourite directors and one of the most talented directors in the history of cinema  \\t1\\nHis use of the colours of the French flag in the three films was nothing short of incredible every shot every scene was like a work of art  \\t1\\nThree of the most visually appealing movies ive ever seen  \\t1\\nAnd his subtle connections between the three films are awesome  \\t1\\nI have to mention this and it is a huge SPOILER i loved the ending how all the characters of the three films were the remaining survivors of the ferry disaster with Valentine and the young judge together and the old man watching it on her TV solidifying his happiness over the suffering which he dealt with for those many years  \\t1\\nI couldnt think of a better way to end the film but a smile on my face great way to wrap up an amazing film and trilogy  \\t1\\nI recommend this for EVERYONE who loves film movies anythingA Work of Art  \\t1\\n10 out of 10 for both the movie and trilogy  \\t1\\nI literally vomited while watching this film  \\t0\\nI think i was one of the people who found this another one of roths pearls  \\t1\\nhis performance as awarded was stunning  \\t1\\nthe story which was told so eloquently by Francis ford Coppola 25 years earlier really unfolds gradually and leaves room for the characters to develop  \\t1\\nIn a most wonderful location lies a story of contrast  \\t1\\nAll in all a beautiful directed film from Nicolas roeg wih a sublime cast  \\t1\\nIm translating movies for a living and this is the first movie in my 5year working experience that I found offensive to my intelligence  \\t0\\nBut when someone strives for greatness and poetry but delivers a muddled and often ridiculous story a bunch of disparate scenes pretentious dialogue Then you get the worst kind of a movie that some other reviewer very accurately defined as pretentious crap  '"
            ]
          },
          "metadata": {},
          "execution_count": 41
        }
      ]
    },
    {
      "cell_type": "code",
      "source": [
        "import nltk\n",
        "nltk.download('stopwords')"
      ],
      "metadata": {
        "colab": {
          "base_uri": "https://localhost:8080/"
        },
        "id": "dr9WXtqnWA_E",
        "outputId": "5485d801-90f7-434a-e077-a3e96c233cef"
      },
      "execution_count": 42,
      "outputs": [
        {
          "output_type": "stream",
          "name": "stdout",
          "text": [
            "[nltk_data] Downloading package stopwords to /root/nltk_data...\n",
            "[nltk_data]   Unzipping corpora/stopwords.zip.\n"
          ]
        },
        {
          "output_type": "execute_result",
          "data": {
            "text/plain": [
              "True"
            ]
          },
          "metadata": {},
          "execution_count": 42
        }
      ]
    },
    {
      "cell_type": "code",
      "source": [
        "from nltk.corpus import stopwords"
      ],
      "metadata": {
        "id": "ieqaZYjuWFEf"
      },
      "execution_count": 43,
      "outputs": []
    },
    {
      "cell_type": "code",
      "source": [
        "remove_stopwords = [word for word in remove_punct.split() if word.lower() not in stopwords.words('english')]"
      ],
      "metadata": {
        "id": "Y50rRuFwWIub"
      },
      "execution_count": 44,
      "outputs": []
    },
    {
      "cell_type": "code",
      "source": [
        "def message_text_pre_process(text_message):\n",
        "  remove_punct = [char for char in text_message if char not in string.punctuation]\n",
        "  remove_punct = ''.join(remove_punct)\n",
        "  remove_stopwords = [word for word in remove_punct.split() if word.lower() not in stopwords.words('english')]\n",
        "  return remove_stopwords"
      ],
      "metadata": {
        "id": "__-ZdASSWM9P"
      },
      "execution_count": 45,
      "outputs": []
    },
    {
      "cell_type": "code",
      "source": [
        "df['message'].head(10).apply(message_text_pre_process)"
      ],
      "metadata": {
        "colab": {
          "base_uri": "https://localhost:8080/"
        },
        "id": "iiEJzmIPWYKd",
        "outputId": "3ced688f-7f93-4594-f9b4-977bebc2c679"
      },
      "execution_count": 46,
      "outputs": [
        {
          "output_type": "execute_result",
          "data": {
            "text/plain": [
              "0    [slowmoving, aimless, movie, distressed, drift...\n",
              "1    [sure, lost, flat, characters, audience, nearl...\n",
              "2    [Attempting, artiness, black, white, clever, c...\n",
              "3                     [little, music, anything, speak]\n",
              "4    [best, scene, movie, Gerardo, trying, find, so...\n",
              "5    [rest, movie, lacks, art, charm, meaning, empt...\n",
              "6                                 [Wasted, two, hours]\n",
              "7    [Saw, movie, today, thought, good, effort, goo...\n",
              "8                                   [bit, predictable]\n",
              "9    [Loved, casting, Jimmy, Buffet, science, teacher]\n",
              "Name: message, dtype: object"
            ]
          },
          "metadata": {},
          "execution_count": 46
        }
      ]
    },
    {
      "cell_type": "code",
      "source": [
        "df.head()"
      ],
      "metadata": {
        "colab": {
          "base_uri": "https://localhost:8080/",
          "height": 206
        },
        "id": "ELbBLqZLWc6D",
        "outputId": "e74f8a0d-2ec5-4d30-ac03-e59c74664624"
      },
      "execution_count": 47,
      "outputs": [
        {
          "output_type": "execute_result",
          "data": {
            "text/html": [
              "<div>\n",
              "<style scoped>\n",
              "    .dataframe tbody tr th:only-of-type {\n",
              "        vertical-align: middle;\n",
              "    }\n",
              "\n",
              "    .dataframe tbody tr th {\n",
              "        vertical-align: top;\n",
              "    }\n",
              "\n",
              "    .dataframe thead th {\n",
              "        text-align: right;\n",
              "    }\n",
              "</style>\n",
              "<table border=\"1\" class=\"dataframe\">\n",
              "  <thead>\n",
              "    <tr style=\"text-align: right;\">\n",
              "      <th></th>\n",
              "      <th>message</th>\n",
              "      <th>class</th>\n",
              "    </tr>\n",
              "  </thead>\n",
              "  <tbody>\n",
              "    <tr>\n",
              "      <th>0</th>\n",
              "      <td>A very, very, very slow-moving, aimless movie ...</td>\n",
              "      <td>0</td>\n",
              "    </tr>\n",
              "    <tr>\n",
              "      <th>1</th>\n",
              "      <td>Not sure who was more lost - the flat characte...</td>\n",
              "      <td>0</td>\n",
              "    </tr>\n",
              "    <tr>\n",
              "      <th>2</th>\n",
              "      <td>Attempting artiness with black &amp; white and cle...</td>\n",
              "      <td>0</td>\n",
              "    </tr>\n",
              "    <tr>\n",
              "      <th>3</th>\n",
              "      <td>Very little music or anything to speak of.</td>\n",
              "      <td>0</td>\n",
              "    </tr>\n",
              "    <tr>\n",
              "      <th>4</th>\n",
              "      <td>The best scene in the movie was when Gerardo i...</td>\n",
              "      <td>1</td>\n",
              "    </tr>\n",
              "  </tbody>\n",
              "</table>\n",
              "</div>"
            ],
            "text/plain": [
              "                                             message  class\n",
              "0  A very, very, very slow-moving, aimless movie ...      0\n",
              "1  Not sure who was more lost - the flat characte...      0\n",
              "2  Attempting artiness with black & white and cle...      0\n",
              "3       Very little music or anything to speak of.        0\n",
              "4  The best scene in the movie was when Gerardo i...      1"
            ]
          },
          "metadata": {},
          "execution_count": 47
        }
      ]
    },
    {
      "cell_type": "code",
      "source": [
        "from sklearn.feature_extraction.text import CountVectorizer"
      ],
      "metadata": {
        "id": "rszKGVk-WmmW"
      },
      "execution_count": 48,
      "outputs": []
    },
    {
      "cell_type": "code",
      "source": [
        "bag_of_words = CountVectorizer(analyzer=message_text_pre_process).fit(df['message'])"
      ],
      "metadata": {
        "id": "VZaDPEaRWnho"
      },
      "execution_count": 49,
      "outputs": []
    },
    {
      "cell_type": "code",
      "source": [
        "bag_of_words_trf = bag_of_words.transform(df['message'])"
      ],
      "metadata": {
        "id": "J_i1UgtDWxSh"
      },
      "execution_count": 50,
      "outputs": []
    },
    {
      "cell_type": "code",
      "source": [
        "from sklearn.feature_extraction.text import TfidfTransformer"
      ],
      "metadata": {
        "id": "6ebtNpuDW2JQ"
      },
      "execution_count": 51,
      "outputs": []
    },
    {
      "cell_type": "code",
      "source": [
        "tfidf_fit = TfidfTransformer().fit(bag_of_words_trf)"
      ],
      "metadata": {
        "id": "3utjvXTKW959"
      },
      "execution_count": 52,
      "outputs": []
    },
    {
      "cell_type": "code",
      "source": [
        "tfidf_trf = tfidf_fit.transform(bag_of_words_trf)"
      ],
      "metadata": {
        "id": "o2iXP-vxqQXw"
      },
      "execution_count": 53,
      "outputs": []
    },
    {
      "cell_type": "code",
      "source": [
        "from sklearn.naive_bayes import MultinomialNB"
      ],
      "metadata": {
        "id": "xehNkwrCXGcg"
      },
      "execution_count": 54,
      "outputs": []
    },
    {
      "cell_type": "code",
      "source": [
        "pred = MultinomialNB().fit(tfidf_trf,df['class'])"
      ],
      "metadata": {
        "id": "7dlltf4QXT0E"
      },
      "execution_count": 55,
      "outputs": []
    },
    {
      "cell_type": "code",
      "source": [
        "test = df['message'][29]"
      ],
      "metadata": {
        "id": "nUmxSjc-XYAm"
      },
      "execution_count": 56,
      "outputs": []
    },
    {
      "cell_type": "code",
      "source": [
        "bag_of_words_test_message = bag_of_words.transform([test])"
      ],
      "metadata": {
        "id": "FBUPz0f4XkSh"
      },
      "execution_count": 58,
      "outputs": []
    },
    {
      "cell_type": "code",
      "source": [
        "tfidf_test_messsge = tfidf_fit.transform(bag_of_words_test_message)"
      ],
      "metadata": {
        "id": "oD2HXBWcXrh3"
      },
      "execution_count": 59,
      "outputs": []
    },
    {
      "cell_type": "code",
      "source": [
        "pred.predict(tfidf_test_messsge)[0]"
      ],
      "metadata": {
        "colab": {
          "base_uri": "https://localhost:8080/"
        },
        "id": "QJZO4N6BXs0O",
        "outputId": "4ddf14cd-a40c-4fa1-a916-72d3aeb92258"
      },
      "execution_count": 60,
      "outputs": [
        {
          "output_type": "execute_result",
          "data": {
            "text/plain": [
              "1"
            ]
          },
          "metadata": {},
          "execution_count": 60
        }
      ]
    },
    {
      "cell_type": "code",
      "source": [
        "prediction_for_all = pred.predict(tfidf_trf)"
      ],
      "metadata": {
        "id": "vXaTUkN4X0pj"
      },
      "execution_count": 61,
      "outputs": []
    },
    {
      "cell_type": "code",
      "source": [
        "from sklearn.metrics import classification_report"
      ],
      "metadata": {
        "id": "-DaMg3zFX-y0"
      },
      "execution_count": 62,
      "outputs": []
    },
    {
      "cell_type": "code",
      "source": [
        "print(classification_report(df['class'],prediction_for_all))"
      ],
      "metadata": {
        "colab": {
          "base_uri": "https://localhost:8080/"
        },
        "id": "4dSUGoz0YB7J",
        "outputId": "5391d6d7-74c5-4359-8bb0-270323f7af3d"
      },
      "execution_count": 65,
      "outputs": [
        {
          "output_type": "stream",
          "name": "stdout",
          "text": [
            "              precision    recall  f1-score   support\n",
            "\n",
            "           0       0.98      0.98      0.98       362\n",
            "           1       0.98      0.98      0.98       386\n",
            "\n",
            "    accuracy                           0.98       748\n",
            "   macro avg       0.98      0.98      0.98       748\n",
            "weighted avg       0.98      0.98      0.98       748\n",
            "\n"
          ]
        }
      ]
    },
    {
      "cell_type": "code",
      "source": [
        "from sklearn.model_selection import train_test_split"
      ],
      "metadata": {
        "id": "CtR-qV6XYPHp"
      },
      "execution_count": 66,
      "outputs": []
    },
    {
      "cell_type": "code",
      "source": [
        "msg_train, msg_test, class_train, class_test = train_test_split(df['message'],df['class']) "
      ],
      "metadata": {
        "id": "bHyeYeuKYTJb"
      },
      "execution_count": 68,
      "outputs": []
    },
    {
      "cell_type": "code",
      "source": [
        "print(msg_train.shape)\n",
        "print(msg_test.shape)\n",
        "print(class_train.shape)\n",
        "print(class_test.shape)"
      ],
      "metadata": {
        "colab": {
          "base_uri": "https://localhost:8080/"
        },
        "id": "ix4ZoCflYd4G",
        "outputId": "5163d277-603b-4da6-82f7-d1048aca6746"
      },
      "execution_count": 69,
      "outputs": [
        {
          "output_type": "stream",
          "name": "stdout",
          "text": [
            "(561,)\n",
            "(187,)\n",
            "(561,)\n",
            "(187,)\n"
          ]
        }
      ]
    },
    {
      "cell_type": "code",
      "source": [
        "from sklearn.pipeline import Pipeline"
      ],
      "metadata": {
        "id": "1SKzrr8TYk3c"
      },
      "execution_count": 70,
      "outputs": []
    },
    {
      "cell_type": "code",
      "source": [
        "text_pipeline = Pipeline([\n",
        "                          ('bag_of_words',CountVectorizer(analyzer=message_text_pre_process)),\n",
        "                          ('tfidf',TfidfTransformer()),\n",
        "                          ('classifier', MultinomialNB())\n",
        "])"
      ],
      "metadata": {
        "id": "N18QBRqDYpjE"
      },
      "execution_count": 71,
      "outputs": []
    },
    {
      "cell_type": "code",
      "source": [
        "text_pipeline.fit(msg_train,class_train)"
      ],
      "metadata": {
        "colab": {
          "base_uri": "https://localhost:8080/"
        },
        "id": "pLRktncXYt1c",
        "outputId": "dbcfd5f5-4666-4086-a92e-e174d157e1b9"
      },
      "execution_count": 72,
      "outputs": [
        {
          "output_type": "execute_result",
          "data": {
            "text/plain": [
              "Pipeline(steps=[('bag_of_words',\n",
              "                 CountVectorizer(analyzer=<function message_text_pre_process at 0x7f0552909440>)),\n",
              "                ('tfidf', TfidfTransformer()),\n",
              "                ('classifier', MultinomialNB())])"
            ]
          },
          "metadata": {},
          "execution_count": 72
        }
      ]
    },
    {
      "cell_type": "code",
      "source": [
        "text_pred = text_pipeline.predict(msg_test)"
      ],
      "metadata": {
        "id": "DhXN4ETzYxur"
      },
      "execution_count": 73,
      "outputs": []
    },
    {
      "cell_type": "code",
      "source": [
        "print(classification_report(text_pred,class_test))"
      ],
      "metadata": {
        "colab": {
          "base_uri": "https://localhost:8080/"
        },
        "id": "tFBuDPOcY1B2",
        "outputId": "df3147f0-1dea-4e36-b20a-b5a3d9fe949e"
      },
      "execution_count": 74,
      "outputs": [
        {
          "output_type": "stream",
          "name": "stdout",
          "text": [
            "              precision    recall  f1-score   support\n",
            "\n",
            "           0       0.83      0.66      0.73        96\n",
            "           1       0.70      0.86      0.77        91\n",
            "\n",
            "    accuracy                           0.75       187\n",
            "   macro avg       0.77      0.76      0.75       187\n",
            "weighted avg       0.77      0.75      0.75       187\n",
            "\n"
          ]
        }
      ]
    },
    {
      "cell_type": "code",
      "source": [
        "msg_test.iloc[43]"
      ],
      "metadata": {
        "colab": {
          "base_uri": "https://localhost:8080/",
          "height": 35
        },
        "id": "DyBG7r6dY4RT",
        "outputId": "7b85af62-496f-4d49-fff9-08eed24b7066"
      },
      "execution_count": 75,
      "outputs": [
        {
          "output_type": "execute_result",
          "data": {
            "application/vnd.google.colaboratory.intrinsic+json": {
              "type": "string"
            },
            "text/plain": [
              "\"Emily Watson's character is very strong, and she has only to give a quick glance and you understand everything.  \""
            ]
          },
          "metadata": {},
          "execution_count": 75
        }
      ]
    },
    {
      "cell_type": "code",
      "source": [
        "class_test.iloc[43]"
      ],
      "metadata": {
        "colab": {
          "base_uri": "https://localhost:8080/"
        },
        "id": "x2n6_01HY-m_",
        "outputId": "bf41c1a2-468b-4245-92a3-00a36e9f3c13"
      },
      "execution_count": 76,
      "outputs": [
        {
          "output_type": "execute_result",
          "data": {
            "text/plain": [
              "1"
            ]
          },
          "metadata": {},
          "execution_count": 76
        }
      ]
    },
    {
      "cell_type": "code",
      "source": [
        "text_pred"
      ],
      "metadata": {
        "colab": {
          "base_uri": "https://localhost:8080/"
        },
        "id": "6KLuSzq0ZDBm",
        "outputId": "dfc029a1-4df9-47b6-9f66-b47c22ca3b49"
      },
      "execution_count": 77,
      "outputs": [
        {
          "output_type": "execute_result",
          "data": {
            "text/plain": [
              "array([0, 0, 0, 0, 0, 1, 1, 1, 0, 1, 0, 0, 0, 1, 1, 1, 1, 1, 0, 1, 0, 1,\n",
              "       1, 0, 1, 1, 0, 1, 1, 0, 1, 0, 1, 0, 1, 0, 0, 1, 1, 0, 1, 1, 1, 1,\n",
              "       1, 1, 1, 0, 0, 1, 1, 1, 0, 0, 1, 1, 0, 0, 0, 1, 0, 1, 0, 0, 1, 1,\n",
              "       1, 1, 0, 1, 0, 0, 1, 0, 0, 1, 0, 1, 1, 1, 0, 1, 0, 0, 0, 0, 0, 1,\n",
              "       1, 0, 1, 0, 1, 0, 1, 1, 1, 0, 0, 1, 0, 0, 0, 1, 0, 0, 0, 1, 0, 1,\n",
              "       0, 0, 1, 0, 0, 1, 1, 0, 1, 1, 1, 0, 0, 1, 1, 1, 1, 0, 1, 0, 0, 1,\n",
              "       1, 1, 1, 0, 0, 1, 1, 1, 0, 0, 0, 1, 1, 1, 0, 0, 0, 0, 0, 0, 0, 1,\n",
              "       1, 1, 0, 1, 1, 0, 0, 1, 0, 1, 0, 1, 0, 0, 0, 0, 1, 1, 0, 0, 0, 0,\n",
              "       0, 0, 0, 0, 0, 1, 0, 1, 0, 1, 0])"
            ]
          },
          "metadata": {},
          "execution_count": 77
        }
      ]
    },
    {
      "cell_type": "code",
      "source": [
        "class_test.iloc[43]"
      ],
      "metadata": {
        "colab": {
          "base_uri": "https://localhost:8080/"
        },
        "id": "0OlfUB9DZGx0",
        "outputId": "91d9734c-2c34-475d-cc34-8ac0dbd96693"
      },
      "execution_count": 78,
      "outputs": [
        {
          "output_type": "execute_result",
          "data": {
            "text/plain": [
              "1"
            ]
          },
          "metadata": {},
          "execution_count": 78
        }
      ]
    },
    {
      "cell_type": "code",
      "source": [
        "class_test"
      ],
      "metadata": {
        "colab": {
          "base_uri": "https://localhost:8080/"
        },
        "id": "2E95P0TlZK5D",
        "outputId": "c5d3d53c-6190-430a-9b44-991b15beda74"
      },
      "execution_count": 79,
      "outputs": [
        {
          "output_type": "execute_result",
          "data": {
            "text/plain": [
              "47     0\n",
              "466    0\n",
              "326    0\n",
              "382    0\n",
              "729    1\n",
              "      ..\n",
              "197    0\n",
              "487    0\n",
              "136    0\n",
              "208    1\n",
              "125    0\n",
              "Name: class, Length: 187, dtype: int64"
            ]
          },
          "metadata": {},
          "execution_count": 79
        }
      ]
    }
  ]
}
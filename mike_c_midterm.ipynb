{
  "nbformat": 4,
  "nbformat_minor": 0,
  "metadata": {
    "colab": {
      "name": "mike_c_midterm.ipynb",
      "provenance": [],
      "collapsed_sections": [],
      "toc_visible": true
    },
    "kernelspec": {
      "name": "python3",
      "display_name": "Python 3"
    },
    "language_info": {
      "name": "python"
    }
  },
  "cells": [
    {
      "cell_type": "markdown",
      "metadata": {
        "id": "qPBlMYftqUmQ"
      },
      "source": [
        "# Dataset background"
      ]
    },
    {
      "cell_type": "markdown",
      "metadata": {
        "id": "xPXqBWDZqk96"
      },
      "source": [
        "This data sets consists of 3 different types of irises’ (Setosa, Versicolour, and Virginica) petal and sepal length, stored in a 150x4 numpy.ndarray\n",
        "\n",
        "The rows being the samples and the columns being: Sepal Length, Sepal Width, Petal Length and Petal Width."
      ]
    },
    {
      "cell_type": "markdown",
      "metadata": {
        "id": "fMHRanxerqdx"
      },
      "source": [
        "# Data Acquisition"
      ]
    },
    {
      "cell_type": "code",
      "metadata": {
        "id": "movlMxgEIJyj"
      },
      "source": [
        "from sklearn.datasets import load_iris"
      ],
      "execution_count": 1,
      "outputs": []
    },
    {
      "cell_type": "code",
      "metadata": {
        "id": "He8bQEvzIws4"
      },
      "source": [
        "iris_data = load_iris()"
      ],
      "execution_count": 2,
      "outputs": []
    },
    {
      "cell_type": "code",
      "metadata": {
        "colab": {
          "base_uri": "https://localhost:8080/"
        },
        "id": "m5laMl_rsPXi",
        "outputId": "834e3c09-ba64-4c9e-acbb-a8c18b730dc1"
      },
      "source": [
        "print(iris_data.DESCR)"
      ],
      "execution_count": 3,
      "outputs": [
        {
          "output_type": "stream",
          "name": "stdout",
          "text": [
            ".. _iris_dataset:\n",
            "\n",
            "Iris plants dataset\n",
            "--------------------\n",
            "\n",
            "**Data Set Characteristics:**\n",
            "\n",
            "    :Number of Instances: 150 (50 in each of three classes)\n",
            "    :Number of Attributes: 4 numeric, predictive attributes and the class\n",
            "    :Attribute Information:\n",
            "        - sepal length in cm\n",
            "        - sepal width in cm\n",
            "        - petal length in cm\n",
            "        - petal width in cm\n",
            "        - class:\n",
            "                - Iris-Setosa\n",
            "                - Iris-Versicolour\n",
            "                - Iris-Virginica\n",
            "                \n",
            "    :Summary Statistics:\n",
            "\n",
            "    ============== ==== ==== ======= ===== ====================\n",
            "                    Min  Max   Mean    SD   Class Correlation\n",
            "    ============== ==== ==== ======= ===== ====================\n",
            "    sepal length:   4.3  7.9   5.84   0.83    0.7826\n",
            "    sepal width:    2.0  4.4   3.05   0.43   -0.4194\n",
            "    petal length:   1.0  6.9   3.76   1.76    0.9490  (high!)\n",
            "    petal width:    0.1  2.5   1.20   0.76    0.9565  (high!)\n",
            "    ============== ==== ==== ======= ===== ====================\n",
            "\n",
            "    :Missing Attribute Values: None\n",
            "    :Class Distribution: 33.3% for each of 3 classes.\n",
            "    :Creator: R.A. Fisher\n",
            "    :Donor: Michael Marshall (MARSHALL%PLU@io.arc.nasa.gov)\n",
            "    :Date: July, 1988\n",
            "\n",
            "The famous Iris database, first used by Sir R.A. Fisher. The dataset is taken\n",
            "from Fisher's paper. Note that it's the same as in R, but not as in the UCI\n",
            "Machine Learning Repository, which has two wrong data points.\n",
            "\n",
            "This is perhaps the best known database to be found in the\n",
            "pattern recognition literature.  Fisher's paper is a classic in the field and\n",
            "is referenced frequently to this day.  (See Duda & Hart, for example.)  The\n",
            "data set contains 3 classes of 50 instances each, where each class refers to a\n",
            "type of iris plant.  One class is linearly separable from the other 2; the\n",
            "latter are NOT linearly separable from each other.\n",
            "\n",
            ".. topic:: References\n",
            "\n",
            "   - Fisher, R.A. \"The use of multiple measurements in taxonomic problems\"\n",
            "     Annual Eugenics, 7, Part II, 179-188 (1936); also in \"Contributions to\n",
            "     Mathematical Statistics\" (John Wiley, NY, 1950).\n",
            "   - Duda, R.O., & Hart, P.E. (1973) Pattern Classification and Scene Analysis.\n",
            "     (Q327.D83) John Wiley & Sons.  ISBN 0-471-22361-1.  See page 218.\n",
            "   - Dasarathy, B.V. (1980) \"Nosing Around the Neighborhood: A New System\n",
            "     Structure and Classification Rule for Recognition in Partially Exposed\n",
            "     Environments\".  IEEE Transactions on Pattern Analysis and Machine\n",
            "     Intelligence, Vol. PAMI-2, No. 1, 67-71.\n",
            "   - Gates, G.W. (1972) \"The Reduced Nearest Neighbor Rule\".  IEEE Transactions\n",
            "     on Information Theory, May 1972, 431-433.\n",
            "   - See also: 1988 MLC Proceedings, 54-64.  Cheeseman et al\"s AUTOCLASS II\n",
            "     conceptual clustering system finds 3 classes in the data.\n",
            "   - Many, many more ...\n"
          ]
        }
      ]
    },
    {
      "cell_type": "code",
      "metadata": {
        "colab": {
          "base_uri": "https://localhost:8080/"
        },
        "id": "cauob4kpI0ij",
        "outputId": "b41c2841-de7c-4f8b-cf17-e8499867cafc"
      },
      "source": [
        "iris_data.feature_names"
      ],
      "execution_count": 4,
      "outputs": [
        {
          "output_type": "execute_result",
          "data": {
            "text/plain": [
              "['sepal length (cm)',\n",
              " 'sepal width (cm)',\n",
              " 'petal length (cm)',\n",
              " 'petal width (cm)']"
            ]
          },
          "metadata": {},
          "execution_count": 4
        }
      ]
    },
    {
      "cell_type": "code",
      "metadata": {
        "colab": {
          "base_uri": "https://localhost:8080/"
        },
        "id": "1KUERZOAI6Xn",
        "outputId": "df763211-7cf3-4e81-cc7f-2411f8003b50"
      },
      "source": [
        "iris_data.target_names"
      ],
      "execution_count": 5,
      "outputs": [
        {
          "output_type": "execute_result",
          "data": {
            "text/plain": [
              "array(['setosa', 'versicolor', 'virginica'], dtype='<U10')"
            ]
          },
          "metadata": {},
          "execution_count": 5
        }
      ]
    },
    {
      "cell_type": "code",
      "metadata": {
        "id": "CjxV1aTMI382"
      },
      "source": [
        ""
      ],
      "execution_count": null,
      "outputs": []
    },
    {
      "cell_type": "markdown",
      "metadata": {
        "id": "uNe0FkJyr-Qt"
      },
      "source": [
        "# Environment Set Up"
      ]
    },
    {
      "cell_type": "code",
      "metadata": {
        "id": "qe2EqNL5JOBK"
      },
      "source": [
        "# Import all required libraries\n",
        "import pandas as pd\n",
        "import seaborn as sns\n",
        "import matplotlib.pyplot as plt"
      ],
      "execution_count": 6,
      "outputs": []
    },
    {
      "cell_type": "code",
      "metadata": {
        "id": "I0BN7IncJIae"
      },
      "source": [
        "df = pd.DataFrame(iris_data.data, columns=iris_data.feature_names)"
      ],
      "execution_count": 7,
      "outputs": []
    },
    {
      "cell_type": "code",
      "metadata": {
        "colab": {
          "base_uri": "https://localhost:8080/",
          "height": 206
        },
        "id": "b4_llsJ_JXZ9",
        "outputId": "cd54a1e0-0626-4464-ff7e-4126600b00a4"
      },
      "source": [
        "df.head()"
      ],
      "execution_count": 8,
      "outputs": [
        {
          "output_type": "execute_result",
          "data": {
            "text/html": [
              "<div>\n",
              "<style scoped>\n",
              "    .dataframe tbody tr th:only-of-type {\n",
              "        vertical-align: middle;\n",
              "    }\n",
              "\n",
              "    .dataframe tbody tr th {\n",
              "        vertical-align: top;\n",
              "    }\n",
              "\n",
              "    .dataframe thead th {\n",
              "        text-align: right;\n",
              "    }\n",
              "</style>\n",
              "<table border=\"1\" class=\"dataframe\">\n",
              "  <thead>\n",
              "    <tr style=\"text-align: right;\">\n",
              "      <th></th>\n",
              "      <th>sepal length (cm)</th>\n",
              "      <th>sepal width (cm)</th>\n",
              "      <th>petal length (cm)</th>\n",
              "      <th>petal width (cm)</th>\n",
              "    </tr>\n",
              "  </thead>\n",
              "  <tbody>\n",
              "    <tr>\n",
              "      <th>0</th>\n",
              "      <td>5.1</td>\n",
              "      <td>3.5</td>\n",
              "      <td>1.4</td>\n",
              "      <td>0.2</td>\n",
              "    </tr>\n",
              "    <tr>\n",
              "      <th>1</th>\n",
              "      <td>4.9</td>\n",
              "      <td>3.0</td>\n",
              "      <td>1.4</td>\n",
              "      <td>0.2</td>\n",
              "    </tr>\n",
              "    <tr>\n",
              "      <th>2</th>\n",
              "      <td>4.7</td>\n",
              "      <td>3.2</td>\n",
              "      <td>1.3</td>\n",
              "      <td>0.2</td>\n",
              "    </tr>\n",
              "    <tr>\n",
              "      <th>3</th>\n",
              "      <td>4.6</td>\n",
              "      <td>3.1</td>\n",
              "      <td>1.5</td>\n",
              "      <td>0.2</td>\n",
              "    </tr>\n",
              "    <tr>\n",
              "      <th>4</th>\n",
              "      <td>5.0</td>\n",
              "      <td>3.6</td>\n",
              "      <td>1.4</td>\n",
              "      <td>0.2</td>\n",
              "    </tr>\n",
              "  </tbody>\n",
              "</table>\n",
              "</div>"
            ],
            "text/plain": [
              "   sepal length (cm)  sepal width (cm)  petal length (cm)  petal width (cm)\n",
              "0                5.1               3.5                1.4               0.2\n",
              "1                4.9               3.0                1.4               0.2\n",
              "2                4.7               3.2                1.3               0.2\n",
              "3                4.6               3.1                1.5               0.2\n",
              "4                5.0               3.6                1.4               0.2"
            ]
          },
          "metadata": {},
          "execution_count": 8
        }
      ]
    },
    {
      "cell_type": "markdown",
      "metadata": {
        "id": "RL4NTtEGs2R0"
      },
      "source": [
        "# EDA (Exploratory Data Analysis)"
      ]
    },
    {
      "cell_type": "markdown",
      "metadata": {
        "id": "mW7Alf7O4bNi"
      },
      "source": [
        "Only basic EDA (plots)"
      ]
    },
    {
      "cell_type": "code",
      "metadata": {
        "id": "3kMKG0iSs8qB"
      },
      "source": [
        "import seaborn as sns"
      ],
      "execution_count": 9,
      "outputs": []
    },
    {
      "cell_type": "code",
      "metadata": {
        "id": "dAmVmb4es8tq",
        "colab": {
          "base_uri": "https://localhost:8080/",
          "height": 299
        },
        "outputId": "2693a57e-de42-4fcd-d013-885c50b975f8"
      },
      "source": [
        "sns.scatterplot(x= 'sepal length (cm)', y= 'sepal width (cm)', data= df)"
      ],
      "execution_count": 15,
      "outputs": [
        {
          "output_type": "execute_result",
          "data": {
            "text/plain": [
              "<matplotlib.axes._subplots.AxesSubplot at 0x7f52387be990>"
            ]
          },
          "metadata": {},
          "execution_count": 15
        },
        {
          "output_type": "display_data",
          "data": {
            "image/png": "[encoded data removed]",
            "text/plain": [
              "<Figure size 432x288 with 1 Axes>"
            ]
          },
          "metadata": {
            "needs_background": "light"
          }
        }
      ]
    },
    {
      "cell_type": "code",
      "metadata": {
        "id": "ch6WeHrbs8yc",
        "colab": {
          "base_uri": "https://localhost:8080/",
          "height": 297
        },
        "outputId": "77966c2c-8083-4e46-ffd0-4885294c45f3"
      },
      "source": [
        "sns.scatterplot(x= 'petal length (cm)', y= 'petal width (cm)', data= df)"
      ],
      "execution_count": 17,
      "outputs": [
        {
          "output_type": "execute_result",
          "data": {
            "text/plain": [
              "<matplotlib.axes._subplots.AxesSubplot at 0x7f5236e50d90>"
            ]
          },
          "metadata": {},
          "execution_count": 17
        },
        {
          "output_type": "display_data",
          "data": {
            "image/png": "[encoded data removed]",
            "text/plain": [
              "<Figure size 432x288 with 1 Axes>"
            ]
          },
          "metadata": {
            "needs_background": "light"
          }
        }
      ]
    },
    {
      "cell_type": "code",
      "metadata": {
        "id": "AouTrCsGs9Xe"
      },
      "source": [
        ""
      ],
      "execution_count": null,
      "outputs": []
    },
    {
      "cell_type": "code",
      "metadata": {
        "id": "iUfJeCMfs9av"
      },
      "source": [
        ""
      ],
      "execution_count": null,
      "outputs": []
    },
    {
      "cell_type": "markdown",
      "metadata": {
        "id": "cL_nuRRVs-CL"
      },
      "source": [
        "# ML - Model Building"
      ]
    },
    {
      "cell_type": "markdown",
      "metadata": {
        "id": "71ZAAL2OuMRg"
      },
      "source": [
        "## Algorithm # 1 - Logistic Regression"
      ]
    },
    {
      "cell_type": "markdown",
      "metadata": {
        "id": "Sro_S7KftNYG"
      },
      "source": [
        "## Scenario 1: Build a model using Sepal Attributes only\n",
        "\n",
        "*   sepal length (cm)\n",
        "*   sepal width (cm) *italicized text*\n",
        "\n"
      ]
    },
    {
      "cell_type": "code",
      "metadata": {
        "id": "TeTgP7VMF2t1"
      },
      "source": [
        "df['sepal length (cm)'] = df['sepal length (cm)'].astype(int)"
      ],
      "execution_count": 46,
      "outputs": []
    },
    {
      "cell_type": "code",
      "metadata": {
        "id": "vZoPAb_4GBxn"
      },
      "source": [
        "df['sepal width (cm)'] = df['sepal width (cm)'].astype(int)"
      ],
      "execution_count": 47,
      "outputs": []
    },
    {
      "cell_type": "code",
      "metadata": {
        "id": "VKof6URqtj67"
      },
      "source": [
        "x = df[['sepal length (cm)','sepal width (cm)' ]]"
      ],
      "execution_count": 82,
      "outputs": []
    },
    {
      "cell_type": "code",
      "metadata": {
        "id": "4vpiH03bIsd2"
      },
      "source": [
        "y = iris_data.target"
      ],
      "execution_count": 85,
      "outputs": []
    },
    {
      "cell_type": "code",
      "metadata": {
        "id": "DiLh_Ge0tj_s",
        "colab": {
          "base_uri": "https://localhost:8080/"
        },
        "outputId": "3fb2e9fd-6dc3-427d-b4df-327b9d7bd8f7"
      },
      "source": [
        "x.shape"
      ],
      "execution_count": 86,
      "outputs": [
        {
          "output_type": "execute_result",
          "data": {
            "text/plain": [
              "(150, 2)"
            ]
          },
          "metadata": {},
          "execution_count": 86
        }
      ]
    },
    {
      "cell_type": "code",
      "metadata": {
        "id": "y70kWCnvtkD-"
      },
      "source": [
        "from sklearn.linear_model import LogisticRegression"
      ],
      "execution_count": 87,
      "outputs": []
    },
    {
      "cell_type": "code",
      "metadata": {
        "id": "Id0CuXFxtkH6"
      },
      "source": [
        "logReg = LogisticRegression()"
      ],
      "execution_count": 88,
      "outputs": []
    },
    {
      "cell_type": "code",
      "metadata": {
        "id": "xoR02vwatmAP"
      },
      "source": [
        "from sklearn.model_selection import train_test_split"
      ],
      "execution_count": 89,
      "outputs": []
    },
    {
      "cell_type": "code",
      "metadata": {
        "id": "Kv34an9YDtkF"
      },
      "source": [
        "x_train, x_test, y_train, y_test = train_test_split(x,y)"
      ],
      "execution_count": 90,
      "outputs": []
    },
    {
      "cell_type": "code",
      "metadata": {
        "colab": {
          "base_uri": "https://localhost:8080/"
        },
        "id": "ibTuXQNdD_Zw",
        "outputId": "88260cb3-487a-4c1b-aa91-f85c77c4b071"
      },
      "source": [
        "print(x_train.shape)\n",
        "print(x_test.shape)\n",
        "print(y_train.shape)\n",
        "print(y_test.shape)"
      ],
      "execution_count": 91,
      "outputs": [
        {
          "output_type": "stream",
          "name": "stdout",
          "text": [
            "(112, 2)\n",
            "(38, 2)\n",
            "(112,)\n",
            "(38,)\n"
          ]
        }
      ]
    },
    {
      "cell_type": "code",
      "metadata": {
        "colab": {
          "base_uri": "https://localhost:8080/"
        },
        "id": "OHdUmIjDED8e",
        "outputId": "6b5043e4-8d59-48cb-e4df-f998c934099b"
      },
      "source": [
        "logReg.fit(x_train,y_train)"
      ],
      "execution_count": 92,
      "outputs": [
        {
          "output_type": "execute_result",
          "data": {
            "text/plain": [
              "LogisticRegression()"
            ]
          },
          "metadata": {},
          "execution_count": 92
        }
      ]
    },
    {
      "cell_type": "code",
      "metadata": {
        "colab": {
          "base_uri": "https://localhost:8080/"
        },
        "id": "FwLZVaom5FZH",
        "outputId": "3414ad39-2edd-4ca3-b63a-16c6c93289ba"
      },
      "source": [
        "logReg.fit(x_train,y_train)"
      ],
      "execution_count": 93,
      "outputs": [
        {
          "output_type": "execute_result",
          "data": {
            "text/plain": [
              "LogisticRegression()"
            ]
          },
          "metadata": {},
          "execution_count": 93
        }
      ]
    },
    {
      "cell_type": "code",
      "metadata": {
        "id": "ZSvCW1-pEcqL"
      },
      "source": [
        "y_pred = logReg.predict(x_test)"
      ],
      "execution_count": 94,
      "outputs": []
    },
    {
      "cell_type": "code",
      "metadata": {
        "id": "LNcodLxfKI1-"
      },
      "source": [
        "import numpy as np"
      ],
      "execution_count": 97,
      "outputs": []
    },
    {
      "cell_type": "code",
      "metadata": {
        "colab": {
          "base_uri": "https://localhost:8080/"
        },
        "id": "jMT33aBfGTMa",
        "outputId": "ea75befc-dfea-4fa7-8c12-2c1921e325b3"
      },
      "source": [
        "y_pred"
      ],
      "execution_count": 95,
      "outputs": [
        {
          "output_type": "execute_result",
          "data": {
            "text/plain": [
              "array([1, 0, 1, 1, 1, 2, 0, 0, 0, 2, 2, 0, 0, 2, 0, 1, 0, 2, 0, 2, 0, 0,\n",
              "       0, 1, 1, 0, 1, 0, 0, 0, 0, 0, 0, 0, 1, 1, 0, 0])"
            ]
          },
          "metadata": {},
          "execution_count": 95
        }
      ]
    },
    {
      "cell_type": "code",
      "metadata": {
        "colab": {
          "base_uri": "https://localhost:8080/"
        },
        "id": "KNR4RYlFGfNo",
        "outputId": "381684a4-7731-452c-c241-d9fdf91f0e2e"
      },
      "source": [
        "y_pred[0:10]"
      ],
      "execution_count": 99,
      "outputs": [
        {
          "output_type": "execute_result",
          "data": {
            "text/plain": [
              "array([1, 0, 1, 1, 1, 2, 0, 0, 0, 2])"
            ]
          },
          "metadata": {},
          "execution_count": 99
        }
      ]
    },
    {
      "cell_type": "code",
      "metadata": {
        "id": "o8yWXgX0Gos6"
      },
      "source": [
        "from sklearn.metrics import accuracy_score"
      ],
      "execution_count": 100,
      "outputs": []
    },
    {
      "cell_type": "code",
      "metadata": {
        "colab": {
          "base_uri": "https://localhost:8080/"
        },
        "id": "Ld4HqQK7Gumb",
        "outputId": "0ae3558f-f6bd-4ce2-a61a-59431a0ba1e6"
      },
      "source": [
        "accuracy_score(y_test, y_pred)"
      ],
      "execution_count": 101,
      "outputs": [
        {
          "output_type": "execute_result",
          "data": {
            "text/plain": [
              "0.7105263157894737"
            ]
          },
          "metadata": {},
          "execution_count": 101
        }
      ]
    },
    {
      "cell_type": "code",
      "metadata": {
        "id": "9YdxhNe8G0Bz"
      },
      "source": [
        "from sklearn.metrics import confusion_matrix"
      ],
      "execution_count": 102,
      "outputs": []
    },
    {
      "cell_type": "code",
      "metadata": {
        "colab": {
          "base_uri": "https://localhost:8080/"
        },
        "id": "y043ythjG8F_",
        "outputId": "53fdf91c-2cee-4339-cfa6-f2aabeb6b376"
      },
      "source": [
        "confusion_matrix(y_test, y_pred)"
      ],
      "execution_count": 103,
      "outputs": [
        {
          "output_type": "execute_result",
          "data": {
            "text/plain": [
              "array([[18,  0,  0],\n",
              "       [ 3,  3,  0],\n",
              "       [ 1,  7,  6]])"
            ]
          },
          "metadata": {},
          "execution_count": 103
        }
      ]
    },
    {
      "cell_type": "code",
      "metadata": {
        "id": "oeVNL4XMHDE_"
      },
      "source": [
        "from sklearn.metrics import classification_report"
      ],
      "execution_count": 104,
      "outputs": []
    },
    {
      "cell_type": "code",
      "metadata": {
        "colab": {
          "base_uri": "https://localhost:8080/"
        },
        "id": "PFKl8haOHKxc",
        "outputId": "89ab0748-61b7-422e-e705-7d3b1a5d76e3"
      },
      "source": [
        "print(classification_report(y_test,y_pred))"
      ],
      "execution_count": 105,
      "outputs": [
        {
          "output_type": "stream",
          "name": "stdout",
          "text": [
            "              precision    recall  f1-score   support\n",
            "\n",
            "           0       0.82      1.00      0.90        18\n",
            "           1       0.30      0.50      0.37         6\n",
            "           2       1.00      0.43      0.60        14\n",
            "\n",
            "    accuracy                           0.71        38\n",
            "   macro avg       0.71      0.64      0.62        38\n",
            "weighted avg       0.80      0.71      0.71        38\n",
            "\n"
          ]
        }
      ]
    },
    {
      "cell_type": "code",
      "metadata": {
        "id": "bnv99BqGHZnt"
      },
      "source": [
        "cm_logReg = confusion_matrix(y_test,y_pred)"
      ],
      "execution_count": 106,
      "outputs": []
    },
    {
      "cell_type": "code",
      "metadata": {
        "id": "5nJurz3UIZkQ"
      },
      "source": [
        "import matplotlib.pyplot as plt"
      ],
      "execution_count": 107,
      "outputs": []
    },
    {
      "cell_type": "code",
      "metadata": {
        "colab": {
          "base_uri": "https://localhost:8080/",
          "height": 365
        },
        "id": "uKt_PfiAIci_",
        "outputId": "780f6153-a889-4c94-a684-f61aa74e65ed"
      },
      "source": [
        "sns.heatmap(df.corr(),annot=True)"
      ],
      "execution_count": 108,
      "outputs": [
        {
          "output_type": "execute_result",
          "data": {
            "text/plain": [
              "<matplotlib.axes._subplots.AxesSubplot at 0x7f522c46a250>"
            ]
          },
          "metadata": {},
          "execution_count": 108
        },
        {
          "output_type": "display_data",
          "data": {
            "image/png": "[encoded data removed]",
            "text/plain": [
              "<Figure size 432x288 with 2 Axes>"
            ]
          },
          "metadata": {
            "needs_background": "light"
          }
        }
      ]
    },
    {
      "cell_type": "code",
      "metadata": {
        "colab": {
          "base_uri": "https://localhost:8080/",
          "height": 301
        },
        "id": "hhAiTnl7jqFn",
        "outputId": "86a4d1b6-4423-4dac-9768-2eb9511531c8"
      },
      "source": [
        "sns.heatmap(z,annot=True,fmt='0.0f')\n",
        "plt.ylabel('actual value')\n",
        "plt.xlabel('predicted value')"
      ],
      "execution_count": 265,
      "outputs": [
        {
          "output_type": "execute_result",
          "data": {
            "text/plain": [
              "Text(0.5, 15.0, 'predicted value')"
            ]
          },
          "metadata": {},
          "execution_count": 265
        },
        {
          "output_type": "display_data",
          "data": {
            "image/png": "[encoded data removed]",
            "text/plain": [
              "<Figure size 432x288 with 2 Axes>"
            ]
          },
          "metadata": {
            "needs_background": "light"
          }
        }
      ]
    },
    {
      "cell_type": "code",
      "metadata": {
        "id": "DICHBWeZkBIr"
      },
      "source": [
        "z = confusion_matrix(y_test,y_pred)"
      ],
      "execution_count": 264,
      "outputs": []
    },
    {
      "cell_type": "markdown",
      "metadata": {
        "id": "KPdFFn4Vtmr2"
      },
      "source": [
        "## Scenario 2: Build a model using Petal Attributes only\n",
        "\n",
        "*   petal length (cm)\n",
        "*   petal width (cm)"
      ]
    },
    {
      "cell_type": "code",
      "metadata": {
        "id": "5qo9nOEkttH0"
      },
      "source": [
        "# hint\n",
        "# X= iris_data.data[:,2:]\n",
        "# y=iris_data.target"
      ],
      "execution_count": null,
      "outputs": []
    },
    {
      "cell_type": "code",
      "metadata": {
        "id": "B-5TZvx3ttJ2"
      },
      "source": [
        "a = df[['petal length (cm)', 'petal width (cm)']]"
      ],
      "execution_count": 109,
      "outputs": []
    },
    {
      "cell_type": "code",
      "metadata": {
        "id": "p0uRC5fGttMz"
      },
      "source": [
        "b = iris_data.target"
      ],
      "execution_count": 110,
      "outputs": []
    },
    {
      "cell_type": "code",
      "metadata": {
        "id": "4GoxmzdlttOw"
      },
      "source": [
        "a_train, a_test, b_train, b_test = train_test_split(a,b)"
      ],
      "execution_count": 111,
      "outputs": []
    },
    {
      "cell_type": "code",
      "metadata": {
        "id": "ifMj_Z8SttS-",
        "colab": {
          "base_uri": "https://localhost:8080/"
        },
        "outputId": "85547f15-2288-4deb-90a4-0f5f642f3d1a"
      },
      "source": [
        "print(a_train.shape)\n",
        "print(a_test.shape)\n",
        "print(b_train.shape)\n",
        "print(b_test.shape)"
      ],
      "execution_count": 112,
      "outputs": [
        {
          "output_type": "stream",
          "name": "stdout",
          "text": [
            "(112, 2)\n",
            "(38, 2)\n",
            "(112,)\n",
            "(38,)\n"
          ]
        }
      ]
    },
    {
      "cell_type": "code",
      "metadata": {
        "id": "75yOhqNwttU4",
        "colab": {
          "base_uri": "https://localhost:8080/"
        },
        "outputId": "cdcf4e50-8b32-4c66-82f0-5e0e8e85ec54"
      },
      "source": [
        "logReg.fit(a,b)"
      ],
      "execution_count": 114,
      "outputs": [
        {
          "output_type": "execute_result",
          "data": {
            "text/plain": [
              "LogisticRegression()"
            ]
          },
          "metadata": {},
          "execution_count": 114
        }
      ]
    },
    {
      "cell_type": "code",
      "metadata": {
        "id": "4_aNwc3wttX5"
      },
      "source": [
        "b_pred = logReg.predict(a_test)"
      ],
      "execution_count": 115,
      "outputs": []
    },
    {
      "cell_type": "code",
      "metadata": {
        "colab": {
          "base_uri": "https://localhost:8080/"
        },
        "id": "RKQ7f8-4Leop",
        "outputId": "b27a8303-4dfe-4240-aad4-479b3e2a7df2"
      },
      "source": [
        "b_pred"
      ],
      "execution_count": 116,
      "outputs": [
        {
          "output_type": "execute_result",
          "data": {
            "text/plain": [
              "array([2, 1, 0, 0, 0, 0, 2, 0, 2, 1, 2, 2, 0, 2, 2, 2, 1, 1, 0, 0, 2, 0,\n",
              "       0, 1, 0, 1, 0, 1, 1, 0, 1, 2, 2, 2, 2, 2, 2, 0])"
            ]
          },
          "metadata": {},
          "execution_count": 116
        }
      ]
    },
    {
      "cell_type": "code",
      "metadata": {
        "colab": {
          "base_uri": "https://localhost:8080/"
        },
        "id": "N7AuBXJLLkgF",
        "outputId": "a30d2e7b-1d6f-4b04-eb12-b898720b0fdb"
      },
      "source": [
        "logReg.score(a_test, b_test)"
      ],
      "execution_count": 117,
      "outputs": [
        {
          "output_type": "execute_result",
          "data": {
            "text/plain": [
              "0.9473684210526315"
            ]
          },
          "metadata": {},
          "execution_count": 117
        }
      ]
    },
    {
      "cell_type": "code",
      "metadata": {
        "colab": {
          "base_uri": "https://localhost:8080/"
        },
        "id": "Sa2IpBtWLucy",
        "outputId": "ef6c3699-706a-485a-814c-5fccf801c7b4"
      },
      "source": [
        "accuracy_score(b_test, b_pred)"
      ],
      "execution_count": 118,
      "outputs": [
        {
          "output_type": "execute_result",
          "data": {
            "text/plain": [
              "0.9473684210526315"
            ]
          },
          "metadata": {},
          "execution_count": 118
        }
      ]
    },
    {
      "cell_type": "code",
      "metadata": {
        "id": "H5piLpxTL3pJ"
      },
      "source": [
        "ab = confusion_matrix(b_test, b_pred)"
      ],
      "execution_count": 269,
      "outputs": []
    },
    {
      "cell_type": "code",
      "metadata": {
        "colab": {
          "base_uri": "https://localhost:8080/"
        },
        "id": "AfBknF0mMGnr",
        "outputId": "985f3b7e-b0ef-4b84-ec44-2f40c313a652"
      },
      "source": [
        "print(classification_report(b_test,b_pred))"
      ],
      "execution_count": 120,
      "outputs": [
        {
          "output_type": "stream",
          "name": "stdout",
          "text": [
            "              precision    recall  f1-score   support\n",
            "\n",
            "           0       1.00      1.00      1.00        14\n",
            "           1       0.89      0.89      0.89         9\n",
            "           2       0.93      0.93      0.93        15\n",
            "\n",
            "    accuracy                           0.95        38\n",
            "   macro avg       0.94      0.94      0.94        38\n",
            "weighted avg       0.95      0.95      0.95        38\n",
            "\n"
          ]
        }
      ]
    },
    {
      "cell_type": "code",
      "metadata": {
        "id": "1q0sdlrdkYVq"
      },
      "source": [
        ""
      ],
      "execution_count": null,
      "outputs": []
    },
    {
      "cell_type": "code",
      "metadata": {
        "colab": {
          "base_uri": "https://localhost:8080/",
          "height": 453
        },
        "id": "CUYtrkNokaPN",
        "outputId": "ef65791b-7cb1-4a91-8bac-4cb144c22060"
      },
      "source": [
        "sns.heatmap(ab,annot=True,fmt='0.0f')\n",
        "plt.blabel('actual value')\n",
        "plt.alabel('predicted value')"
      ],
      "execution_count": 270,
      "outputs": [
        {
          "output_type": "error",
          "ename": "AttributeError",
          "evalue": "ignored",
          "traceback": [
            "\u001b[0;31m---------------------------------------------------------------------------\u001b[0m",
            "\u001b[0;31mAttributeError\u001b[0m                            Traceback (most recent call last)",
            "\u001b[0;32m<ipython-input-270-cbb7fdc34362>\u001b[0m in \u001b[0;36m<module>\u001b[0;34m()\u001b[0m\n\u001b[1;32m      1\u001b[0m \u001b[0msns\u001b[0m\u001b[0;34m.\u001b[0m\u001b[0mheatmap\u001b[0m\u001b[0;34m(\u001b[0m\u001b[0mab\u001b[0m\u001b[0;34m,\u001b[0m\u001b[0mannot\u001b[0m\u001b[0;34m=\u001b[0m\u001b[0;32mTrue\u001b[0m\u001b[0;34m,\u001b[0m\u001b[0mfmt\u001b[0m\u001b[0;34m=\u001b[0m\u001b[0;34m'0.0f'\u001b[0m\u001b[0;34m)\u001b[0m\u001b[0;34m\u001b[0m\u001b[0;34m\u001b[0m\u001b[0m\n\u001b[0;32m----> 2\u001b[0;31m \u001b[0mplt\u001b[0m\u001b[0;34m.\u001b[0m\u001b[0mblabel\u001b[0m\u001b[0;34m(\u001b[0m\u001b[0;34m'actual value'\u001b[0m\u001b[0;34m)\u001b[0m\u001b[0;34m\u001b[0m\u001b[0;34m\u001b[0m\u001b[0m\n\u001b[0m\u001b[1;32m      3\u001b[0m \u001b[0mplt\u001b[0m\u001b[0;34m.\u001b[0m\u001b[0malabel\u001b[0m\u001b[0;34m(\u001b[0m\u001b[0;34m'predicted value'\u001b[0m\u001b[0;34m)\u001b[0m\u001b[0;34m\u001b[0m\u001b[0;34m\u001b[0m\u001b[0m\n",
            "\u001b[0;31mAttributeError\u001b[0m: module 'matplotlib.pyplot' has no attribute 'blabel'"
          ]
        },
        {
          "output_type": "display_data",
          "data": {
            "image/png": "[encoded data removed]",
            "text/plain": [
              "<Figure size 432x288 with 2 Axes>"
            ]
          },
          "metadata": {
            "needs_background": "light"
          }
        }
      ]
    },
    {
      "cell_type": "markdown",
      "metadata": {
        "id": "CuTi20zQtuAy"
      },
      "source": [
        "## Scenario 3: Build a model using Sepal and Petal Attributes (all attributes)\n",
        "\n",
        "*   sepal length (cm)\n",
        "*   sepal width (cm)\n",
        "*   petal length (cm)\n",
        "*   petal width (cm)"
      ]
    },
    {
      "cell_type": "code",
      "metadata": {
        "id": "BjiriEIyt5oa"
      },
      "source": [
        "c = df[['sepal length (cm)', 'sepal width (cm)', 'petal length (cm)', 'petal width (cm)']]"
      ],
      "execution_count": 121,
      "outputs": []
    },
    {
      "cell_type": "code",
      "metadata": {
        "id": "jJibiwDMt5qu"
      },
      "source": [
        "d = iris_data.target"
      ],
      "execution_count": 122,
      "outputs": []
    },
    {
      "cell_type": "code",
      "metadata": {
        "id": "AzLnuohPt5s2"
      },
      "source": [
        "c_train, c_test, d_train, d_test = train_test_split(c,d)"
      ],
      "execution_count": 123,
      "outputs": []
    },
    {
      "cell_type": "code",
      "metadata": {
        "id": "FhlPoe1xt5vN",
        "colab": {
          "base_uri": "https://localhost:8080/"
        },
        "outputId": "7cc820dc-175a-4a0e-ebce-63b62f4db7eb"
      },
      "source": [
        "print(c_train.shape)\n",
        "print(c_test.shape)\n",
        "print(d_train.shape)\n",
        "print(d_test.shape)"
      ],
      "execution_count": 124,
      "outputs": [
        {
          "output_type": "stream",
          "name": "stdout",
          "text": [
            "(112, 4)\n",
            "(38, 4)\n",
            "(112,)\n",
            "(38,)\n"
          ]
        }
      ]
    },
    {
      "cell_type": "code",
      "metadata": {
        "id": "KcW4idJKt5yz",
        "colab": {
          "base_uri": "https://localhost:8080/"
        },
        "outputId": "2829db17-cfb7-4cca-8498-52d3d28592b2"
      },
      "source": [
        "logReg.fit(c_train, d_train)"
      ],
      "execution_count": 125,
      "outputs": [
        {
          "output_type": "execute_result",
          "data": {
            "text/plain": [
              "LogisticRegression()"
            ]
          },
          "metadata": {},
          "execution_count": 125
        }
      ]
    },
    {
      "cell_type": "code",
      "metadata": {
        "id": "PwTELvFRt52E"
      },
      "source": [
        "d_pred = logReg.predict(c_test)"
      ],
      "execution_count": 126,
      "outputs": []
    },
    {
      "cell_type": "code",
      "metadata": {
        "colab": {
          "base_uri": "https://localhost:8080/"
        },
        "id": "Pv-Ygi8SNdvs",
        "outputId": "b263bbe7-5932-4134-b7d2-38c6360ad0db"
      },
      "source": [
        "logReg.score(c_test,d_test)"
      ],
      "execution_count": 127,
      "outputs": [
        {
          "output_type": "execute_result",
          "data": {
            "text/plain": [
              "0.9473684210526315"
            ]
          },
          "metadata": {},
          "execution_count": 127
        }
      ]
    },
    {
      "cell_type": "code",
      "metadata": {
        "colab": {
          "base_uri": "https://localhost:8080/"
        },
        "id": "VDGrqYTwNd7G",
        "outputId": "279a1ef1-95e1-4dbe-cf17-ac57d14b5d7f"
      },
      "source": [
        "accuracy_score(d_test,d_pred)"
      ],
      "execution_count": 129,
      "outputs": [
        {
          "output_type": "execute_result",
          "data": {
            "text/plain": [
              "0.9473684210526315"
            ]
          },
          "metadata": {},
          "execution_count": 129
        }
      ]
    },
    {
      "cell_type": "code",
      "metadata": {
        "colab": {
          "base_uri": "https://localhost:8080/"
        },
        "id": "qjiXQOdCNeDe",
        "outputId": "f80b90df-11fe-4121-8bf3-7f9d487ef0a2"
      },
      "source": [
        "confusion_matrix(d_test,d_pred)"
      ],
      "execution_count": 130,
      "outputs": [
        {
          "output_type": "execute_result",
          "data": {
            "text/plain": [
              "array([[14,  0,  0],\n",
              "       [ 0, 14,  1],\n",
              "       [ 0,  1,  8]])"
            ]
          },
          "metadata": {},
          "execution_count": 130
        }
      ]
    },
    {
      "cell_type": "code",
      "metadata": {
        "colab": {
          "base_uri": "https://localhost:8080/"
        },
        "id": "CE6C0KTbNxR5",
        "outputId": "5e67255e-3fdd-4f82-8878-4785463b9a8a"
      },
      "source": [
        "print(classification_report(d_test,d_pred))"
      ],
      "execution_count": 131,
      "outputs": [
        {
          "output_type": "stream",
          "name": "stdout",
          "text": [
            "              precision    recall  f1-score   support\n",
            "\n",
            "           0       1.00      1.00      1.00        14\n",
            "           1       0.93      0.93      0.93        15\n",
            "           2       0.89      0.89      0.89         9\n",
            "\n",
            "    accuracy                           0.95        38\n",
            "   macro avg       0.94      0.94      0.94        38\n",
            "weighted avg       0.95      0.95      0.95        38\n",
            "\n"
          ]
        }
      ]
    },
    {
      "cell_type": "code",
      "metadata": {
        "id": "Xy6poYLpkIOs"
      },
      "source": [
        "aa = confusion_matrix(d_test,d_pred)"
      ],
      "execution_count": 267,
      "outputs": []
    },
    {
      "cell_type": "markdown",
      "metadata": {
        "id": "Kh5Grk0puVoa"
      },
      "source": [
        "## Algorithm # 2 - KNN (K Nearest Neibhors)"
      ]
    },
    {
      "cell_type": "markdown",
      "metadata": {
        "id": "4llS0v7WubNx"
      },
      "source": [
        "## Scenario 1: Build a model using Sepal Attributes only\n",
        "\n",
        "*   sepal length (cm)\n",
        "*   sepal width (cm)"
      ]
    },
    {
      "cell_type": "code",
      "metadata": {
        "id": "TIssnVuruYfv"
      },
      "source": [
        "from sklearn.preprocessing import StandardScaler"
      ],
      "execution_count": 132,
      "outputs": []
    },
    {
      "cell_type": "code",
      "metadata": {
        "id": "LzO3JPKcusVu"
      },
      "source": [
        "scalar = StandardScaler()"
      ],
      "execution_count": 133,
      "outputs": []
    },
    {
      "cell_type": "code",
      "metadata": {
        "id": "W0Eei3k1usaJ"
      },
      "source": [
        "from sklearn.model_selection import train_test_split"
      ],
      "execution_count": 134,
      "outputs": []
    },
    {
      "cell_type": "code",
      "metadata": {
        "id": "PCmz0gR7usd0"
      },
      "source": [
        "e = df[['sepal length (cm)', 'sepal width (cm)']]"
      ],
      "execution_count": 135,
      "outputs": []
    },
    {
      "cell_type": "code",
      "metadata": {
        "id": "3CS8klnmPDnn"
      },
      "source": [
        "f = iris_data.target"
      ],
      "execution_count": 136,
      "outputs": []
    },
    {
      "cell_type": "code",
      "metadata": {
        "colab": {
          "base_uri": "https://localhost:8080/"
        },
        "id": "9oICBdYlQCto",
        "outputId": "269936d2-4904-4832-90cc-6b4f46e3fece"
      },
      "source": [
        "scalar.fit(df.drop('sepal width (cm)', axis=1))"
      ],
      "execution_count": 146,
      "outputs": [
        {
          "output_type": "execute_result",
          "data": {
            "text/plain": [
              "StandardScaler()"
            ]
          },
          "metadata": {},
          "execution_count": 146
        }
      ]
    },
    {
      "cell_type": "code",
      "metadata": {
        "colab": {
          "base_uri": "https://localhost:8080/"
        },
        "id": "-zu49oa2Q-88",
        "outputId": "d959119c-bbc7-4c80-e79f-5078c37dbe0a"
      },
      "source": [
        "scaled_features = scalar.transform(df.drop('sepal length (cm)', axis=1))"
      ],
      "execution_count": 148,
      "outputs": [
        {
          "output_type": "stream",
          "name": "stderr",
          "text": [
            "/usr/local/lib/python3.7/dist-packages/sklearn/base.py:488: FutureWarning: The feature names should match those that were passed during fit. Starting version 1.2, an error will be raised.\n",
            "Feature names unseen at fit time:\n",
            "- sepal width (cm)\n",
            "Feature names seen at fit time, yet now missing:\n",
            "- sepal length (cm)\n",
            "\n",
            "  warnings.warn(message, FutureWarning)\n"
          ]
        }
      ]
    },
    {
      "cell_type": "code",
      "metadata": {
        "id": "0VH_cjI6PIWJ"
      },
      "source": [
        "e_train, e_test, f_train, f_test = train_test_split(scaled_features, df['sepal width (cm)'])"
      ],
      "execution_count": 150,
      "outputs": []
    },
    {
      "cell_type": "code",
      "metadata": {
        "colab": {
          "base_uri": "https://localhost:8080/"
        },
        "id": "ky4fAjv5QBEL",
        "outputId": "9284df08-db49-43f8-d540-d9fbcb68d06d"
      },
      "source": [
        "print(e_train.shape)\n",
        "print(e_test.shape)\n",
        "print(f_train.shape)\n",
        "print(f_test.shape)"
      ],
      "execution_count": 151,
      "outputs": [
        {
          "output_type": "stream",
          "name": "stdout",
          "text": [
            "(112, 3)\n",
            "(38, 3)\n",
            "(112,)\n",
            "(38,)\n"
          ]
        }
      ]
    },
    {
      "cell_type": "code",
      "metadata": {
        "id": "wx2us_A0QBK6"
      },
      "source": [
        "from sklearn.neighbors import KNeighborsClassifier"
      ],
      "execution_count": 152,
      "outputs": []
    },
    {
      "cell_type": "code",
      "metadata": {
        "id": "oBg5cTnZQBNx"
      },
      "source": [
        "knn = KNeighborsClassifier(n_neighbors=1)"
      ],
      "execution_count": 153,
      "outputs": []
    },
    {
      "cell_type": "code",
      "metadata": {
        "id": "gaEiSbUIR2fU"
      },
      "source": [
        "f_pred = knn.predict(e_test)"
      ],
      "execution_count": 156,
      "outputs": []
    },
    {
      "cell_type": "code",
      "metadata": {
        "colab": {
          "base_uri": "https://localhost:8080/"
        },
        "id": "_yQxzA1NRk5G",
        "outputId": "d9de24aa-000b-4f7a-ad0e-312a82f8de2c"
      },
      "source": [
        "knn.fit(e_train,f_train)"
      ],
      "execution_count": 191,
      "outputs": [
        {
          "output_type": "execute_result",
          "data": {
            "text/plain": [
              "KNeighborsClassifier(n_neighbors=1)"
            ]
          },
          "metadata": {},
          "execution_count": 191
        }
      ]
    },
    {
      "cell_type": "code",
      "metadata": {
        "colab": {
          "base_uri": "https://localhost:8080/"
        },
        "id": "1NlWdmocRlEs",
        "outputId": "330360be-bfb4-4ef4-a452-09fab68b548a"
      },
      "source": [
        "confusion_matrix(f_test, f_pred)"
      ],
      "execution_count": 192,
      "outputs": [
        {
          "output_type": "execute_result",
          "data": {
            "text/plain": [
              "array([[13,  0],\n",
              "       [ 0, 25]])"
            ]
          },
          "metadata": {},
          "execution_count": 192
        }
      ]
    },
    {
      "cell_type": "code",
      "metadata": {
        "id": "L64RBo-cR9z5"
      },
      "source": [
        "score = knn.score(e_test,f_test)"
      ],
      "execution_count": 193,
      "outputs": []
    },
    {
      "cell_type": "code",
      "metadata": {
        "colab": {
          "base_uri": "https://localhost:8080/"
        },
        "id": "YhP8DxawSIKh",
        "outputId": "e191026f-9d56-4085-c304-9abed9bb8890"
      },
      "source": [
        "score"
      ],
      "execution_count": 194,
      "outputs": [
        {
          "output_type": "execute_result",
          "data": {
            "text/plain": [
              "1.0"
            ]
          },
          "metadata": {},
          "execution_count": 194
        }
      ]
    },
    {
      "cell_type": "code",
      "metadata": {
        "colab": {
          "base_uri": "https://localhost:8080/"
        },
        "id": "slJRKf8xSKi4",
        "outputId": "55a81826-591e-41ab-83c1-7de41d58d233"
      },
      "source": [
        "print(classification_report(f_test,f_pred))"
      ],
      "execution_count": 195,
      "outputs": [
        {
          "output_type": "stream",
          "name": "stdout",
          "text": [
            "              precision    recall  f1-score   support\n",
            "\n",
            "           2       1.00      1.00      1.00        13\n",
            "           3       1.00      1.00      1.00        25\n",
            "\n",
            "    accuracy                           1.00        38\n",
            "   macro avg       1.00      1.00      1.00        38\n",
            "weighted avg       1.00      1.00      1.00        38\n",
            "\n"
          ]
        }
      ]
    },
    {
      "cell_type": "markdown",
      "metadata": {
        "id": "_T2Kfvr1uuXo"
      },
      "source": [
        "## Scenario 2: Build a model using Petal Attributes only\n",
        "\n",
        "*   petal length (cm)\n",
        "*   petal width (cm)"
      ]
    },
    {
      "cell_type": "code",
      "metadata": {
        "id": "kkbwo1m1ushg"
      },
      "source": [
        "g = df[['petal length (cm)', 'petal width (cm)']]"
      ],
      "execution_count": 216,
      "outputs": []
    },
    {
      "cell_type": "code",
      "metadata": {
        "id": "kIRDQBbluslv"
      },
      "source": [
        "h = iris_data.target"
      ],
      "execution_count": 217,
      "outputs": []
    },
    {
      "cell_type": "code",
      "metadata": {
        "id": "ywKYS0azuspd"
      },
      "source": [
        "g_train, g_test, h_train, h_test = train_test_split(scaled_features, df['petal width (cm)'])"
      ],
      "execution_count": 218,
      "outputs": []
    },
    {
      "cell_type": "code",
      "metadata": {
        "colab": {
          "base_uri": "https://localhost:8080/"
        },
        "id": "ms-WbALRV1ky",
        "outputId": "9b0dd5d3-8e69-4615-a786-1214a05d0d06"
      },
      "source": [
        "scalar.fit(df.drop('petal width (cm)', axis=1))"
      ],
      "execution_count": 219,
      "outputs": [
        {
          "output_type": "execute_result",
          "data": {
            "text/plain": [
              "StandardScaler()"
            ]
          },
          "metadata": {},
          "execution_count": 219
        }
      ]
    },
    {
      "cell_type": "code",
      "metadata": {
        "id": "4s3RCbPlusrE"
      },
      "source": [
        "scaled_features = scalar.transform(df.drop('petal width (cm)', axis=1))"
      ],
      "execution_count": 220,
      "outputs": []
    },
    {
      "cell_type": "code",
      "metadata": {
        "colab": {
          "base_uri": "https://localhost:8080/"
        },
        "id": "2CKhWqMYWNn6",
        "outputId": "c7ccef46-4e27-48a7-d6f3-9ac40926eddb"
      },
      "source": [
        "print(g_train.shape)\n",
        "print(g_test.shape)\n",
        "print(h_train.shape)\n",
        "print(h_test.shape)"
      ],
      "execution_count": 221,
      "outputs": [
        {
          "output_type": "stream",
          "name": "stdout",
          "text": [
            "(112, 3)\n",
            "(38, 3)\n",
            "(112,)\n",
            "(38,)\n"
          ]
        }
      ]
    },
    {
      "cell_type": "code",
      "metadata": {
        "id": "YLgc8V83Xv9-"
      },
      "source": [
        "from sklearn.neighbors import KNeighborsClassifier"
      ],
      "execution_count": 222,
      "outputs": []
    },
    {
      "cell_type": "code",
      "metadata": {
        "id": "sXpnIR8RXxFE"
      },
      "source": [
        "df['petal length (cm)'] = df['petal length (cm)'].astype(int)"
      ],
      "execution_count": 212,
      "outputs": []
    },
    {
      "cell_type": "code",
      "metadata": {
        "id": "V3UKIa6FYU7L"
      },
      "source": [
        "df['petal width (cm)'] = df['petal width (cm)'].astype(int)"
      ],
      "execution_count": 223,
      "outputs": []
    },
    {
      "cell_type": "code",
      "metadata": {
        "id": "oXgd0YatSle9"
      },
      "source": [
        "knn = KNeighborsClassifier(n_neighbors=1)"
      ],
      "execution_count": 224,
      "outputs": []
    },
    {
      "cell_type": "code",
      "metadata": {
        "colab": {
          "base_uri": "https://localhost:8080/"
        },
        "id": "DmCg5X3kX0wN",
        "outputId": "f45fb840-b6bb-486d-d5a0-f66e0e89d80d"
      },
      "source": [
        "knn.fit(g_train,h_train)"
      ],
      "execution_count": 225,
      "outputs": [
        {
          "output_type": "execute_result",
          "data": {
            "text/plain": [
              "KNeighborsClassifier(n_neighbors=1)"
            ]
          },
          "metadata": {},
          "execution_count": 225
        }
      ]
    },
    {
      "cell_type": "code",
      "metadata": {
        "id": "LbAQ9Fw4Yf1_"
      },
      "source": [
        ""
      ],
      "execution_count": null,
      "outputs": []
    },
    {
      "cell_type": "code",
      "metadata": {
        "id": "_HnzKzesYn0k"
      },
      "source": [
        "h_pred = knn.predict(g_test)"
      ],
      "execution_count": 226,
      "outputs": []
    },
    {
      "cell_type": "code",
      "metadata": {
        "colab": {
          "base_uri": "https://localhost:8080/"
        },
        "id": "4up-kthwYri2",
        "outputId": "1af47586-19bf-4a49-8086-f9fd88a6e384"
      },
      "source": [
        "knn.fit(g_train,h_train)"
      ],
      "execution_count": 227,
      "outputs": [
        {
          "output_type": "execute_result",
          "data": {
            "text/plain": [
              "KNeighborsClassifier(n_neighbors=1)"
            ]
          },
          "metadata": {},
          "execution_count": 227
        }
      ]
    },
    {
      "cell_type": "code",
      "metadata": {
        "colab": {
          "base_uri": "https://localhost:8080/"
        },
        "id": "AN_2EG9EYyGM",
        "outputId": "474c544c-0fa5-47d9-8331-8d013d80e3c6"
      },
      "source": [
        "confusion_matrix(h_test, h_pred)"
      ],
      "execution_count": 228,
      "outputs": [
        {
          "output_type": "execute_result",
          "data": {
            "text/plain": [
              "array([[13,  0,  0],\n",
              "       [ 0, 15,  3],\n",
              "       [ 0,  2,  5]])"
            ]
          },
          "metadata": {},
          "execution_count": 228
        }
      ]
    },
    {
      "cell_type": "code",
      "metadata": {
        "id": "mVm_14L1Y7Ou"
      },
      "source": [
        "score = knn.score(g_test,h_test)"
      ],
      "execution_count": 229,
      "outputs": []
    },
    {
      "cell_type": "code",
      "metadata": {
        "colab": {
          "base_uri": "https://localhost:8080/"
        },
        "id": "N-NFqU_QZEbK",
        "outputId": "5108012e-a0a4-4b96-88c7-484fc787c532"
      },
      "source": [
        "score"
      ],
      "execution_count": 230,
      "outputs": [
        {
          "output_type": "execute_result",
          "data": {
            "text/plain": [
              "0.868421052631579"
            ]
          },
          "metadata": {},
          "execution_count": 230
        }
      ]
    },
    {
      "cell_type": "code",
      "metadata": {
        "colab": {
          "base_uri": "https://localhost:8080/"
        },
        "id": "rsiWTMkJZFv_",
        "outputId": "3cd56f8c-0ca9-415f-8551-3884bbbd5b0b"
      },
      "source": [
        "print(classification_report(h_test,h_pred))"
      ],
      "execution_count": 231,
      "outputs": [
        {
          "output_type": "stream",
          "name": "stdout",
          "text": [
            "              precision    recall  f1-score   support\n",
            "\n",
            "           0       1.00      1.00      1.00        13\n",
            "           1       0.88      0.83      0.86        18\n",
            "           2       0.62      0.71      0.67         7\n",
            "\n",
            "    accuracy                           0.87        38\n",
            "   macro avg       0.84      0.85      0.84        38\n",
            "weighted avg       0.88      0.87      0.87        38\n",
            "\n"
          ]
        }
      ]
    },
    {
      "cell_type": "markdown",
      "metadata": {
        "id": "ULA-g-knu1S7"
      },
      "source": [
        "## Scenario 3: Build a model using Sepal and Petal Attributes (all attributes)\n",
        "\n",
        "*   sepal length (cm)\n",
        "*   sepal width (cm)\n",
        "*   petal length (cm)\n",
        "*   petal width (cm)"
      ]
    },
    {
      "cell_type": "code",
      "metadata": {
        "id": "7ecJ9qZuu2Yf",
        "colab": {
          "base_uri": "https://localhost:8080/"
        },
        "outputId": "ec61e7c6-141c-41df-e979-ce0a4f3e8c02"
      },
      "source": [
        "scalar.fit(df.drop('sepal length (cm)', axis=1))"
      ],
      "execution_count": 235,
      "outputs": [
        {
          "output_type": "execute_result",
          "data": {
            "text/plain": [
              "StandardScaler()"
            ]
          },
          "metadata": {},
          "execution_count": 235
        }
      ]
    },
    {
      "cell_type": "code",
      "metadata": {
        "id": "1ZC6YE1Fu6oS"
      },
      "source": [
        "scaled_features = scalar.transform(df.drop('sepal length (cm)', axis=1))"
      ],
      "execution_count": 238,
      "outputs": []
    },
    {
      "cell_type": "code",
      "metadata": {
        "id": "hjyGW1vbaBMx"
      },
      "source": [
        "i = df[['sepal length (cm)', 'sepal width (cm)', 'petal length (cm)', 'petal width (cm)']]"
      ],
      "execution_count": 239,
      "outputs": []
    },
    {
      "cell_type": "code",
      "metadata": {
        "id": "bPcctcSku6rH"
      },
      "source": [
        "j = iris_data.target"
      ],
      "execution_count": 240,
      "outputs": []
    },
    {
      "cell_type": "code",
      "metadata": {
        "id": "Z4wFM_s0u6tQ"
      },
      "source": [
        "i_train, i_test, j_train, j_test = train_test_split(scaled_features, df['sepal length (cm)'])"
      ],
      "execution_count": 243,
      "outputs": []
    },
    {
      "cell_type": "code",
      "metadata": {
        "id": "UJBJHhoBu6vx",
        "colab": {
          "base_uri": "https://localhost:8080/"
        },
        "outputId": "7f6279be-d771-4ebd-8bdf-9535cfb9b2cc"
      },
      "source": [
        "print(i_train.shape)\n",
        "print(i_test.shape)\n",
        "print(j_train.shape)\n",
        "print(j_test.shape)"
      ],
      "execution_count": 244,
      "outputs": [
        {
          "output_type": "stream",
          "name": "stdout",
          "text": [
            "(112, 3)\n",
            "(38, 3)\n",
            "(112,)\n",
            "(38,)\n"
          ]
        }
      ]
    },
    {
      "cell_type": "code",
      "metadata": {
        "id": "1U7Lo601u6xy",
        "colab": {
          "base_uri": "https://localhost:8080/"
        },
        "outputId": "c6abed68-5ffb-4f55-e0a0-59d53d80951c"
      },
      "source": [
        "knn.fit(i_train,j_train)"
      ],
      "execution_count": 245,
      "outputs": [
        {
          "output_type": "execute_result",
          "data": {
            "text/plain": [
              "KNeighborsClassifier(n_neighbors=1)"
            ]
          },
          "metadata": {},
          "execution_count": 245
        }
      ]
    },
    {
      "cell_type": "code",
      "metadata": {
        "id": "_AfudGPla3dc"
      },
      "source": [
        "j_pred = knn.predict(i_test)"
      ],
      "execution_count": 246,
      "outputs": []
    },
    {
      "cell_type": "code",
      "metadata": {
        "colab": {
          "base_uri": "https://localhost:8080/"
        },
        "id": "b7DFxxSla8nw",
        "outputId": "92f7a931-3b88-4e1f-c187-ffd17331e8dd"
      },
      "source": [
        "confusion_matrix(j_test, j_pred)"
      ],
      "execution_count": 247,
      "outputs": [
        {
          "output_type": "execute_result",
          "data": {
            "text/plain": [
              "array([[ 1,  4,  0,  0],\n",
              "       [ 0, 14,  6,  0],\n",
              "       [ 0,  2, 10,  0],\n",
              "       [ 0,  0,  0,  1]])"
            ]
          },
          "metadata": {},
          "execution_count": 247
        }
      ]
    },
    {
      "cell_type": "code",
      "metadata": {
        "id": "L6aUejO0bI7i"
      },
      "source": [
        "score = knn.score(i_test,j_test)"
      ],
      "execution_count": 248,
      "outputs": []
    },
    {
      "cell_type": "code",
      "metadata": {
        "colab": {
          "base_uri": "https://localhost:8080/"
        },
        "id": "9Wc-ay2-bMBT",
        "outputId": "f80136e4-64f5-4789-ed23-2a6701c5f563"
      },
      "source": [
        "score"
      ],
      "execution_count": 249,
      "outputs": [
        {
          "output_type": "execute_result",
          "data": {
            "text/plain": [
              "0.6842105263157895"
            ]
          },
          "metadata": {},
          "execution_count": 249
        }
      ]
    },
    {
      "cell_type": "code",
      "metadata": {
        "colab": {
          "base_uri": "https://localhost:8080/"
        },
        "id": "_opY0XTwbNTd",
        "outputId": "36539263-6d67-4610-eec8-187ff3384cb6"
      },
      "source": [
        "print(classification_report(j_test,j_pred))"
      ],
      "execution_count": 250,
      "outputs": [
        {
          "output_type": "stream",
          "name": "stdout",
          "text": [
            "              precision    recall  f1-score   support\n",
            "\n",
            "           4       1.00      0.20      0.33         5\n",
            "           5       0.70      0.70      0.70        20\n",
            "           6       0.62      0.83      0.71        12\n",
            "           7       1.00      1.00      1.00         1\n",
            "\n",
            "    accuracy                           0.68        38\n",
            "   macro avg       0.83      0.68      0.69        38\n",
            "weighted avg       0.72      0.68      0.66        38\n",
            "\n"
          ]
        }
      ]
    },
    {
      "cell_type": "markdown",
      "metadata": {
        "id": "5WQTVuRO39EQ"
      },
      "source": [
        "# Bonus Points: Decision Tree"
      ]
    },
    {
      "cell_type": "markdown",
      "metadata": {
        "id": "TAqUp81l4KvZ"
      },
      "source": [
        "## Build decision tree for Scenario 2\n"
      ]
    },
    {
      "cell_type": "code",
      "metadata": {
        "id": "vn3xFIc94tEY"
      },
      "source": [
        "from sklearn.tree import DecisionTreeClassifier\n",
        "import pydotplus, graphviz\n",
        "from sklearn import tree\n",
        "from IPython.display import Image"
      ],
      "execution_count": null,
      "outputs": []
    },
    {
      "cell_type": "code",
      "metadata": {
        "id": "q2dby29G4UVe"
      },
      "source": [
        "# hint\n",
        "# choose decision tree max depth=2\n",
        "# X= iris_data.data[:,2:]\n",
        "# y=iris_data.target\n",
        "# dot_img = tree.export_graphviz(dt_clf,out_file='iris_tree.dot',feature_names=iris_data.feature_names[2:],class_names=iris_data.target_names,filled=True,rounded=True)\n",
        "# tree_graph = pydotplus.graph_from_dot_file('iris_tree.dot')\n",
        "# Image(tree_graph.create_png())"
      ],
      "execution_count": null,
      "outputs": []
    },
    {
      "cell_type": "code",
      "metadata": {
        "id": "xbApGuPHVaY5"
      },
      "source": [
        ""
      ],
      "execution_count": null,
      "outputs": []
    },
    {
      "cell_type": "markdown",
      "metadata": {
        "id": "Rwvr0TZz5A1k"
      },
      "source": [
        "Print Decision Tree and write your interpretation for it"
      ]
    },
    {
      "cell_type": "markdown",
      "metadata": {
        "id": "nyelyrNc9wLP"
      },
      "source": [
        ""
      ]
    },
    {
      "cell_type": "code",
      "metadata": {
        "id": "3lIJXQ7B4Vwn",
        "colab": {
          "base_uri": "https://localhost:8080/"
        },
        "outputId": "126fa243-3867-41e7-ff52-fa3facf53984"
      },
      "source": [
        "pip install pydotplus"
      ],
      "execution_count": 162,
      "outputs": [
        {
          "output_type": "stream",
          "name": "stdout",
          "text": [
            "Requirement already satisfied: pydotplus in /usr/local/lib/python3.7/dist-packages (2.0.2)\n",
            "Requirement already satisfied: pyparsing>=2.0.1 in /usr/local/lib/python3.7/dist-packages (from pydotplus) (3.0.6)\n"
          ]
        }
      ]
    },
    {
      "cell_type": "code",
      "metadata": {
        "colab": {
          "base_uri": "https://localhost:8080/"
        },
        "id": "PQAMEB0NTXLX",
        "outputId": "a03d4efd-3d5f-4549-c792-b6c0bce284d9"
      },
      "source": [
        "from matplotlib import pyplot\n",
        "importance = logReg.coef_[0]\n",
        "print(importance)\n"
      ],
      "execution_count": 167,
      "outputs": [
        {
          "output_type": "stream",
          "name": "stdout",
          "text": [
            "[-0.35869675  0.8433707  -2.33262885 -0.98358695]\n"
          ]
        }
      ]
    },
    {
      "cell_type": "code",
      "metadata": {
        "colab": {
          "base_uri": "https://localhost:8080/",
          "height": 339
        },
        "id": "K4hJvwmgTaVP",
        "outputId": "651b178c-370e-4f65-e9ac-2f5c18adbe42"
      },
      "source": [
        "for i,v in enumerate(importance):\n",
        "  print('Feature: %0d, Score: %.5f' % (i,v))\n",
        "pyplot.bar([x for x in range(len(importance))], importance)\n",
        "pyplot.show()"
      ],
      "execution_count": 168,
      "outputs": [
        {
          "output_type": "stream",
          "name": "stdout",
          "text": [
            "Feature: 0, Score: -0.35870\n",
            "Feature: 1, Score: 0.84337\n",
            "Feature: 2, Score: -2.33263\n",
            "Feature: 3, Score: -0.98359\n"
          ]
        },
        {
          "output_type": "display_data",
          "data": {
            "image/png": "[encoded data removed]",
            "text/plain": [
              "<Figure size 432x288 with 1 Axes>"
            ]
          },
          "metadata": {
            "needs_background": "light"
          }
        }
      ]
    },
    {
      "cell_type": "code",
      "metadata": {
        "id": "3WcdsZQYTfRx"
      },
      "source": [
        "from sklearn.tree import DecisionTreeClassifier"
      ],
      "execution_count": 169,
      "outputs": []
    },
    {
      "cell_type": "code",
      "metadata": {
        "id": "EzeL_kRkTT-T"
      },
      "source": [
        "m = iris_data.data[:,2:]"
      ],
      "execution_count": 251,
      "outputs": []
    },
    {
      "cell_type": "code",
      "metadata": {
        "id": "fiue5PRDb0eE"
      },
      "source": [
        "n = iris_data.target"
      ],
      "execution_count": 252,
      "outputs": []
    },
    {
      "cell_type": "code",
      "metadata": {
        "id": "mKIyjjC8b45n"
      },
      "source": [
        "dot_img = tree.export_graphviz(dec_gen_model,out_file='iris_tree.dot',feature_names=iris_data.feature_names[2:],class_names=iris_data.target_names,filled=True,rounded=True)"
      ],
      "execution_count": 259,
      "outputs": []
    },
    {
      "cell_type": "code",
      "metadata": {
        "id": "Zo_Aff2dcw2Q"
      },
      "source": [
        "tree_graph = pydotplus.graph_from_dot_file('iris_tree.dot')"
      ],
      "execution_count": 260,
      "outputs": []
    },
    {
      "cell_type": "code",
      "metadata": {
        "id": "rsn2I4lJdQFx"
      },
      "source": [
        "from IPython.display import Image"
      ],
      "execution_count": 261,
      "outputs": []
    },
    {
      "cell_type": "code",
      "metadata": {
        "colab": {
          "base_uri": "https://localhost:8080/",
          "height": 594
        },
        "id": "EpsyYAFMdTSX",
        "outputId": "08da3595-b3d9-4e42-a936-75ade304e210"
      },
      "source": [
        "Image(tree_graph.create_png())"
      ],
      "execution_count": 262,
      "outputs": [
        {
          "output_type": "execute_result",
          "data": {
            "image/png": "[encoded data removed]",
            "text/plain": [
              "<IPython.core.display.Image object>"
            ]
          },
          "metadata": {},
          "execution_count": 262
        }
      ]
    },
    {
      "cell_type": "markdown",
      "metadata": {
        "id": "E-uXBAfNu7eN"
      },
      "source": [
        "# Model Comparison"
      ]
    },
    {
      "cell_type": "code",
      "metadata": {
        "id": "SBJttwi1vBZ4"
      },
      "source": [
        ""
      ],
      "execution_count": null,
      "outputs": []
    },
    {
      "cell_type": "code",
      "metadata": {
        "id": "sa0mXy6MvBcs"
      },
      "source": [
        ""
      ],
      "execution_count": null,
      "outputs": []
    },
    {
      "cell_type": "markdown",
      "metadata": {
        "id": "j0tO6mYXu_sZ"
      },
      "source": [
        "To compire my models I used the accuracy score for both the logistic regression as well as the knn models. My first logistics regression model focused around th sepal was 71%. My next logistic model focused on the petal was 94% and my final model with both was also 94%. For the knn models, the first one regarding the sepal was 100% though I feel as this is an error creating the model. The second model which is fucosed on the petal was 86%. Finally the last knn model focused on both was 68%."
      ]
    },
    {
      "cell_type": "markdown",
      "metadata": {
        "id": "8iRZRzjkvD_f"
      },
      "source": [
        "# Model Selection"
      ]
    },
    {
      "cell_type": "markdown",
      "metadata": {
        "id": "zRVTFlDWvIrR"
      },
      "source": [
        "When it comes to selecting which model to use I decided to use the logistic regression model that uses both petal and sepal data points. I decided to use this as it has a high accuracy score and I feel having both the sepal and the petal add to the accuracy of the model."
      ]
    },
    {
      "cell_type": "code",
      "metadata": {
        "id": "1BGSM65YvIH_"
      },
      "source": [
        ""
      ],
      "execution_count": null,
      "outputs": []
    },
    {
      "cell_type": "markdown",
      "metadata": {
        "id": "v0QViQ5mvJPN"
      },
      "source": [
        "# Summary and Conclusion"
      ]
    },
    {
      "cell_type": "code",
      "metadata": {
        "id": "17baSFEUvL_v"
      },
      "source": [
        ""
      ],
      "execution_count": null,
      "outputs": []
    },
    {
      "cell_type": "markdown",
      "metadata": {
        "id": "cUn0lUyovMy4"
      },
      "source": [
        "When it comes to percision I generally found that logistics regression was more percise and to have a lower recall number."
      ]
    }
  ]
}